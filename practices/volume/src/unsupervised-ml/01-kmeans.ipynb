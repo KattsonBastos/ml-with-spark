{
 "cells": [
  {
   "cell_type": "markdown",
   "id": "660b5366-707c-4d84-a2e9-179bd3327778",
   "metadata": {
    "tags": []
   },
   "source": [
    "# Clustering with KMeans"
   ]
  },
  {
   "cell_type": "markdown",
   "id": "697b9cd2-13a2-4fff-830a-da8241bfa1b4",
   "metadata": {},
   "source": [
    "General Pipeline:\n",
    "\n",
    "- Importing Data\n",
    "- RFormula transformation\n",
    "- Split into train and test\n",
    "- Building the model\n",
    "- Prediction on the test set\n",
    "- Evaluation"
   ]
  },
  {
   "cell_type": "markdown",
   "id": "d57f2bbe-061a-4929-93f4-f9e89ff0e4da",
   "metadata": {},
   "source": [
    "Hyperparams:\n",
    "\n",
    "- distanceMeasure: the distance metric we want to use\n",
    "- k: the number of clusters\n",
    "- maxIter: the maximum number of iterations\n",
    "- predictionCol: the column name that contains the cluster"
   ]
  },
  {
   "cell_type": "markdown",
   "id": "cc39d28e-b648-4e1b-9238-fbc72e5552c7",
   "metadata": {
    "tags": []
   },
   "source": [
    "## Importing"
   ]
  },
  {
   "cell_type": "code",
   "execution_count": 1,
   "id": "4b11e27a-6d04-4762-8811-05a2ccf151e1",
   "metadata": {},
   "outputs": [],
   "source": [
    "import pyspark, findspark\n",
    "from pyspark.sql import SparkSession\n",
    "\n",
    "findspark.init()\n",
    "\n",
    "spark = SparkSession.builder.appName(\"kmeans\").getOrCreate()"
   ]
  },
  {
   "cell_type": "code",
   "execution_count": 7,
   "id": "e16d1c09-6d36-4875-b55c-9e9f9a636805",
   "metadata": {},
   "outputs": [],
   "source": [
    "from pyspark.ml.feature    import RFormula, VectorAssembler, StringIndexer\n",
    "from pyspark.ml.clustering import KMeans\n",
    "\n",
    "from pyspark.sql.functions import col\n",
    "from pyspark.sql.types import IntegerType"
   ]
  },
  {
   "cell_type": "markdown",
   "id": "b14fd40c-92ab-4426-990f-24635bc761a9",
   "metadata": {
    "tags": []
   },
   "source": [
    "## Loading Data"
   ]
  },
  {
   "cell_type": "code",
   "execution_count": 3,
   "id": "01982a9c-677f-4d69-976f-359390bdf0a6",
   "metadata": {},
   "outputs": [
    {
     "name": "stdout",
     "output_type": "stream",
     "text": [
      "+-----------+----------+-----------+----------+-----------+\n",
      "|sepallength|sepalwidth|petallength|petalwidth|      class|\n",
      "+-----------+----------+-----------+----------+-----------+\n",
      "|        5.1|       3.5|        1.4|       0.2|Iris-setosa|\n",
      "|        4.9|       3.0|        1.4|       0.2|Iris-setosa|\n",
      "+-----------+----------+-----------+----------+-----------+\n",
      "only showing top 2 rows\n",
      "\n"
     ]
    }
   ],
   "source": [
    "data = spark.read.load(\n",
    "    \"../../data/iris.csv\",\n",
    "    format=\"csv\",\n",
    "    sep=\",\",\n",
    "    header = True, \n",
    "    inferSchema=True)\n",
    "\n",
    "data.show(2)"
   ]
  },
  {
   "cell_type": "markdown",
   "id": "eff08a4f-191b-4f28-a258-5ddd4e206c96",
   "metadata": {
    "tags": []
   },
   "source": [
    "## Data Preparation"
   ]
  },
  {
   "cell_type": "code",
   "execution_count": 4,
   "id": "465ff146-f90a-41ad-9ad1-2330c4a5ca32",
   "metadata": {},
   "outputs": [
    {
     "name": "stdout",
     "output_type": "stream",
     "text": [
      "+-----------+----------+-----------+----------+-----------+-----------------+\n",
      "|sepallength|sepalwidth|petallength|petalwidth|      class|         features|\n",
      "+-----------+----------+-----------+----------+-----------+-----------------+\n",
      "|        5.1|       3.5|        1.4|       0.2|Iris-setosa|[5.1,3.5,1.4,0.2]|\n",
      "|        4.9|       3.0|        1.4|       0.2|Iris-setosa|[4.9,3.0,1.4,0.2]|\n",
      "+-----------+----------+-----------+----------+-----------+-----------------+\n",
      "only showing top 2 rows\n",
      "\n"
     ]
    }
   ],
   "source": [
    "asb = VectorAssembler(\n",
    "    inputCols=[\"sepallength\",\"sepalwidth\",\"petallength\",\"petalwidth\"],\n",
    "    outputCol=\"features\"\n",
    ")\n",
    "\n",
    "data = asb.transform(data)\n",
    "data.show(2)"
   ]
  },
  {
   "cell_type": "code",
   "execution_count": 5,
   "id": "1c0ab2f3-d554-4829-9de9-ddfcf627d4c9",
   "metadata": {},
   "outputs": [
    {
     "name": "stdout",
     "output_type": "stream",
     "text": [
      "+-----------------+------+\n",
      "|         features|target|\n",
      "+-----------------+------+\n",
      "|[5.1,3.5,1.4,0.2]|   0.0|\n",
      "|[4.9,3.0,1.4,0.2]|   0.0|\n",
      "+-----------------+------+\n",
      "only showing top 2 rows\n",
      "\n"
     ]
    }
   ],
   "source": [
    "ind = StringIndexer(\n",
    "    inputCol=\"class\",\n",
    "    outputCol=\"target\"\n",
    ")\n",
    "\n",
    "data = ind.fit(data).transform(data)\n",
    "data.select(\"features\", \"target\").show(2)"
   ]
  },
  {
   "cell_type": "code",
   "execution_count": 10,
   "id": "dcbab11e-c00f-4cfc-ba1a-fdff74140e6c",
   "metadata": {},
   "outputs": [
    {
     "name": "stdout",
     "output_type": "stream",
     "text": [
      "+-----------------+------+\n",
      "|         features|target|\n",
      "+-----------------+------+\n",
      "|[5.1,3.5,1.4,0.2]|     0|\n",
      "|[4.9,3.0,1.4,0.2]|     0|\n",
      "+-----------------+------+\n",
      "only showing top 2 rows\n",
      "\n"
     ]
    }
   ],
   "source": [
    "data = data.withColumn(\"target\", data[\"target\"].cast(IntegerType()))\n",
    "data.select(\"features\", \"target\").show(2)"
   ]
  },
  {
   "cell_type": "markdown",
   "id": "3470fa4f-348d-42b2-99de-f1c9e139b01b",
   "metadata": {},
   "source": [
    "## Model Development and Training"
   ]
  },
  {
   "cell_type": "code",
   "execution_count": 11,
   "id": "3bd20b81-adba-4344-a06d-af65b47d2705",
   "metadata": {},
   "outputs": [],
   "source": [
    "km = KMeans(\n",
    "    predictionCol=\"cluster\",\n",
    "    featuresCol=\"features\",\n",
    "    maxIter=100,\n",
    "    k=3\n",
    ")\n",
    "\n",
    "model = km.fit(data)"
   ]
  },
  {
   "cell_type": "markdown",
   "id": "48edc68d-21dc-4f0e-abcd-acb87542a771",
   "metadata": {
    "tags": []
   },
   "source": [
    "## Predicting on Test Set"
   ]
  },
  {
   "cell_type": "code",
   "execution_count": 14,
   "id": "56159abe-9f7c-4750-bc62-12a1eaddf604",
   "metadata": {},
   "outputs": [
    {
     "name": "stdout",
     "output_type": "stream",
     "text": [
      "+-----------+----------+-----------+----------+-----------+-----------------+------+-------+\n",
      "|sepallength|sepalwidth|petallength|petalwidth|      class|         features|target|cluster|\n",
      "+-----------+----------+-----------+----------+-----------+-----------------+------+-------+\n",
      "|        5.1|       3.5|        1.4|       0.2|Iris-setosa|[5.1,3.5,1.4,0.2]|     0|      1|\n",
      "|        4.9|       3.0|        1.4|       0.2|Iris-setosa|[4.9,3.0,1.4,0.2]|     0|      1|\n",
      "|        4.7|       3.2|        1.3|       0.2|Iris-setosa|[4.7,3.2,1.3,0.2]|     0|      1|\n",
      "|        4.6|       3.1|        1.5|       0.2|Iris-setosa|[4.6,3.1,1.5,0.2]|     0|      1|\n",
      "|        5.0|       3.6|        1.4|       0.2|Iris-setosa|[5.0,3.6,1.4,0.2]|     0|      1|\n",
      "+-----------+----------+-----------+----------+-----------+-----------------+------+-------+\n",
      "only showing top 5 rows\n",
      "\n"
     ]
    }
   ],
   "source": [
    "clusters = model.transform(data)\n",
    "clusters.show(5)"
   ]
  },
  {
   "cell_type": "code",
   "execution_count": 18,
   "id": "c3dbf1e7-1bbc-4fa0-a1e6-679be5e08baa",
   "metadata": {},
   "outputs": [
    {
     "data": {
      "text/plain": [
       "[Row(cluster=1), Row(cluster=2), Row(cluster=0)]"
      ]
     },
     "execution_count": 18,
     "metadata": {},
     "output_type": "execute_result"
    }
   ],
   "source": [
    "clusters.select('cluster').distinct().collect()"
   ]
  }
 ],
 "metadata": {
  "kernelspec": {
   "display_name": "Python 3 (ipykernel)",
   "language": "python",
   "name": "python3"
  },
  "language_info": {
   "codemirror_mode": {
    "name": "ipython",
    "version": 3
   },
   "file_extension": ".py",
   "mimetype": "text/x-python",
   "name": "python",
   "nbconvert_exporter": "python",
   "pygments_lexer": "ipython3",
   "version": "3.10.6"
  }
 },
 "nbformat": 4,
 "nbformat_minor": 5
}
