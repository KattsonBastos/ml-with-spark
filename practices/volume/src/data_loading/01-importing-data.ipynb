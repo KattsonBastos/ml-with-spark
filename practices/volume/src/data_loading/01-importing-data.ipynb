{
 "cells": [
  {
   "cell_type": "markdown",
   "metadata": {},
   "source": [
    "# Data Loading Techniques"
   ]
  },
  {
   "cell_type": "markdown",
   "metadata": {},
   "source": [
    "There are may ways we can load data with sprk.\n",
    "\n",
    "Among others, we can find:\n",
    "\n",
    "- Parquet\n",
    "- JDBC\n",
    "- LIBSVM\n",
    "- CSV\n",
    "- JSON"
   ]
  },
  {
   "cell_type": "markdown",
   "metadata": {},
   "source": [
    "For data reading, we can use `spark.read.load` and `spark.read.<file_type>`.\n",
    "\n",
    "`load` is a generic method: it allows us to import a lot of data types. Doing so, we have to pass the file format when loading."
   ]
  },
  {
   "cell_type": "markdown",
   "metadata": {
    "tags": []
   },
   "source": [
    "\n",
    "## IMPORTING"
   ]
  },
  {
   "cell_type": "code",
   "execution_count": 1,
   "metadata": {},
   "outputs": [],
   "source": [
    "import pyspark, findspark\n",
    "from pyspark.sql import SparkSession\n",
    "\n",
    "findspark.init()\n",
    "\n",
    "spark = SparkSession.builder.appName(\"importer\").getOrCreate()"
   ]
  },
  {
   "cell_type": "markdown",
   "metadata": {
    "jp-MarkdownHeadingCollapsed": true,
    "tags": []
   },
   "source": [
    "### General Variables"
   ]
  },
  {
   "cell_type": "code",
   "execution_count": 2,
   "metadata": {},
   "outputs": [],
   "source": [
    "csv_file_path = \"../data/despachantes.csv\""
   ]
  },
  {
   "cell_type": "markdown",
   "metadata": {
    "jp-MarkdownHeadingCollapsed": true,
    "tags": []
   },
   "source": [
    "### Reading CSV files passing the Schema"
   ]
  },
  {
   "cell_type": "markdown",
   "metadata": {},
   "source": [
    "First, let's load the data passing the schema. Later, we'll let spark automatically infer it."
   ]
  },
  {
   "cell_type": "code",
   "execution_count": 3,
   "metadata": {},
   "outputs": [],
   "source": [
    "arqschema = \"id INT, nome STRING, status STRING, cidade STRING, vendas INT, data DATE\""
   ]
  },
  {
   "cell_type": "code",
   "execution_count": 5,
   "metadata": {},
   "outputs": [],
   "source": [
    "despachantes = spark.read.csv(\n",
    "    csv_file_path,\n",
    "    header=False, \n",
    "    schema = arqschema\n",
    ")"
   ]
  },
  {
   "cell_type": "code",
   "execution_count": 6,
   "metadata": {},
   "outputs": [
    {
     "name": "stdout",
     "output_type": "stream",
     "text": [
      "+---+----------------+------+-------------+------+----------+\n",
      "| id|            nome|status|       cidade|vendas|      data|\n",
      "+---+----------------+------+-------------+------+----------+\n",
      "|  1|Carminda Pestana| Ativo|  Santa Maria|    23|2020-08-11|\n",
      "|  2| Deolinda Vilela| Ativo|Novo Hamburgo|    34|2020-03-05|\n",
      "+---+----------------+------+-------------+------+----------+\n",
      "only showing top 2 rows\n",
      "\n"
     ]
    }
   ],
   "source": [
    "despachantes.show(2)"
   ]
  },
  {
   "cell_type": "markdown",
   "metadata": {},
   "source": [
    "Checking if the schema is ok"
   ]
  },
  {
   "cell_type": "code",
   "execution_count": 7,
   "metadata": {},
   "outputs": [
    {
     "data": {
      "text/plain": [
       "[StructField('id', IntegerType(), True),\n",
       " StructField('nome', StringType(), True),\n",
       " StructField('status', StringType(), True),\n",
       " StructField('cidade', StringType(), True),\n",
       " StructField('vendas', IntegerType(), True),\n",
       " StructField('data', DateType(), True)]"
      ]
     },
     "execution_count": 7,
     "metadata": {},
     "output_type": "execute_result"
    }
   ],
   "source": [
    "[schema for schema in despachantes.schema]"
   ]
  },
  {
   "cell_type": "markdown",
   "metadata": {
    "jp-MarkdownHeadingCollapsed": true,
    "tags": []
   },
   "source": [
    "### Reading CSV files with automatically schema detection"
   ]
  },
  {
   "cell_type": "code",
   "execution_count": 16,
   "metadata": {},
   "outputs": [
    {
     "name": "stdout",
     "output_type": "stream",
     "text": [
      "+---+----------------+-----+-------------+---+-------------------+\n",
      "|_c0|             _c1|  _c2|          _c3|_c4|                _c5|\n",
      "+---+----------------+-----+-------------+---+-------------------+\n",
      "|  1|Carminda Pestana|Ativo|  Santa Maria| 23|2020-08-11 00:00:00|\n",
      "|  2| Deolinda Vilela|Ativo|Novo Hamburgo| 34|2020-03-05 00:00:00|\n",
      "+---+----------------+-----+-------------+---+-------------------+\n",
      "only showing top 2 rows\n",
      "\n"
     ]
    }
   ],
   "source": [
    "despachantes_autoschema = spark.read.load(\n",
    "    csv_file_path,\n",
    "    format='csv',\n",
    "    header=False,\n",
    "    InferSchema=True,\n",
    "    sep=','\n",
    ")\n",
    "\n",
    "despachantes_autoschema.show(2)"
   ]
  },
  {
   "cell_type": "code",
   "execution_count": 18,
   "metadata": {},
   "outputs": [
    {
     "data": {
      "text/plain": [
       "[StructField('_c0', IntegerType(), True),\n",
       " StructField('_c1', StringType(), True),\n",
       " StructField('_c2', StringType(), True),\n",
       " StructField('_c3', StringType(), True),\n",
       " StructField('_c4', IntegerType(), True),\n",
       " StructField('_c5', TimestampType(), True)]"
      ]
     },
     "execution_count": 18,
     "metadata": {},
     "output_type": "execute_result"
    }
   ],
   "source": [
    "[schema for schema in despachantes_autoschema.schema]"
   ]
  },
  {
   "cell_type": "markdown",
   "metadata": {},
   "source": [
    "### Reading Parquet file"
   ]
  },
  {
   "cell_type": "code",
   "execution_count": 21,
   "metadata": {},
   "outputs": [
    {
     "name": "stdout",
     "output_type": "stream",
     "text": [
      "+---+----------------+-----+-------------+---+----------+\n",
      "|_c0|             _c1|  _c2|          _c3|_c4|       _c5|\n",
      "+---+----------------+-----+-------------+---+----------+\n",
      "|  1|Carminda Pestana|Ativo|  Santa Maria| 23|2020-08-11|\n",
      "|  2| Deolinda Vilela|Ativo|Novo Hamburgo| 34|2020-03-05|\n",
      "+---+----------------+-----+-------------+---+----------+\n",
      "only showing top 2 rows\n",
      "\n"
     ]
    }
   ],
   "source": [
    "par = spark.read.format('parquet').load(\"../data/despachantes.parquet\")\n",
    "par.show(2)"
   ]
  },
  {
   "cell_type": "markdown",
   "metadata": {},
   "source": [
    "### Reading JSON File"
   ]
  },
  {
   "cell_type": "code",
   "execution_count": 22,
   "metadata": {},
   "outputs": [
    {
     "name": "stdout",
     "output_type": "stream",
     "text": [
      "+-------------+-----------+---+----------------+------+------+\n",
      "|       cidade|       data| id|            nome|status|vendas|\n",
      "+-------------+-----------+---+----------------+------+------+\n",
      "|  Santa Maria| 2020-08-11|  1|Carminda Pestana| Ativo|    23|\n",
      "|Novo Hamburgo| 2020-03-05|  2| Deolinda Vilela| Ativo|    34|\n",
      "+-------------+-----------+---+----------------+------+------+\n",
      "only showing top 2 rows\n",
      "\n"
     ]
    }
   ],
   "source": [
    "js = spark.read.format('json').load('../data/despachantes.json')\n",
    "js.show(2)"
   ]
  },
  {
   "cell_type": "markdown",
   "metadata": {},
   "source": [
    "### Reading ORC File"
   ]
  },
  {
   "cell_type": "code",
   "execution_count": 24,
   "metadata": {},
   "outputs": [
    {
     "name": "stdout",
     "output_type": "stream",
     "text": [
      "+---+----------------+-----+-------------+---+----------+\n",
      "|_c0|             _c1|  _c2|          _c3|_c4|       _c5|\n",
      "+---+----------------+-----+-------------+---+----------+\n",
      "|  1|Carminda Pestana|Ativo|  Santa Maria| 23|2020-08-11|\n",
      "|  2| Deolinda Vilela|Ativo|Novo Hamburgo| 34|2020-03-05|\n",
      "+---+----------------+-----+-------------+---+----------+\n",
      "only showing top 2 rows\n",
      "\n"
     ]
    }
   ],
   "source": [
    "orc = spark.read.format('orc').load('../data/despachantes.orc')\n",
    "orc.show(2)"
   ]
  },
  {
   "cell_type": "code",
   "execution_count": null,
   "metadata": {},
   "outputs": [],
   "source": []
  }
 ],
 "metadata": {
  "kernelspec": {
   "display_name": "Python 3 (ipykernel)",
   "language": "python",
   "name": "python3"
  },
  "language_info": {
   "codemirror_mode": {
    "name": "ipython",
    "version": 3
   },
   "file_extension": ".py",
   "mimetype": "text/x-python",
   "name": "python",
   "nbconvert_exporter": "python",
   "pygments_lexer": "ipython3",
   "version": "3.10.6"
  }
 },
 "nbformat": 4,
 "nbformat_minor": 4
}
