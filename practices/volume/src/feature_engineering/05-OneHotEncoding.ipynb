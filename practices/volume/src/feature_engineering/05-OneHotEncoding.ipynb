{
 "cells": [
  {
   "cell_type": "markdown",
   "id": "660b5366-707c-4d84-a2e9-179bd3327778",
   "metadata": {
    "tags": []
   },
   "source": [
    "# One Hot Encoding"
   ]
  },
  {
   "cell_type": "markdown",
   "id": "bc0db2da-a2f5-4cce-aec5-131ff2d50435",
   "metadata": {},
   "source": [
    "### Refreshing the Concept"
   ]
  },
  {
   "cell_type": "markdown",
   "id": "7dcf13d5-7fb3-493e-8edc-307ba88abac9",
   "metadata": {},
   "source": [
    "Just like with the StringIndex, One Hot Encoding also transforms strings into numbers. However, this last creates a new column for each category, as shown in the following image:"
   ]
  },
  {
   "cell_type": "markdown",
   "id": "2af4b36b-662e-4858-9653-770fb0f12142",
   "metadata": {},
   "source": [
    "![ohe](../../notebook-images/ohe.png)"
   ]
  },
  {
   "cell_type": "markdown",
   "id": "7c212db3-83c0-4a7e-9c6e-2f5f41eaf592",
   "metadata": {},
   "source": [
    "[Image source: Fernando Amaral's PySpark Couse.](https://www.udemy.com/course/machine-learning-com-spark-e-pyspark/)"
   ]
  },
  {
   "cell_type": "markdown",
   "id": "345bb538-d21c-4cf0-8e80-c56066826f30",
   "metadata": {},
   "source": [
    "A difference between Spark's OHE and other libraries is that Spark expects the input column to be already numeric.\n",
    "\n",
    "So, in this case, before we apply the One Hot Encoding, if our column is String, we have to transform to index.\n",
    "\n",
    "Spark's OHE outputs a dense matrix, similar to the `VectorAssembler` and `PCA` outputs.\n",
    "\n",
    "However, the result can be a little confusing. So, let's try to understand it for a while.\n",
    "\n",
    "The OHE output in Spark looks like the following:\n"
   ]
  },
  {
   "cell_type": "markdown",
   "id": "0086e8f0-fdaf-419b-ae14-e80e59dc9056",
   "metadata": {},
   "source": [
    "![ohe](../../notebook-images/spark-ohe.png)"
   ]
  },
  {
   "cell_type": "markdown",
   "id": "40d5fc43-e77e-4b58-aa07-5f8b5e76241f",
   "metadata": {},
   "source": [
    "[Image source: Fernando Amaral's PySpark Couse.](https://www.udemy.com/course/machine-learning-com-spark-e-pyspark/)"
   ]
  },
  {
   "cell_type": "markdown",
   "id": "11110c1f-d6c2-4088-8f28-9d309d8b5f28",
   "metadata": {},
   "source": [
    "The `onehot_c1` is the OHE for the Geography column.\n",
    "\n",
    "So, we have:\n",
    "\n",
    "- **France**: index 0\n",
    "- **Germany**: index 1\n",
    "- **Spain**: Index 2"
   ]
  },
  {
   "cell_type": "markdown",
   "id": "6a4c5a6c-4140-409f-9c4f-d0388917ca89",
   "metadata": {},
   "source": [
    "To make more clear, the following image shows what each component represents:"
   ]
  },
  {
   "cell_type": "markdown",
   "id": "041a995e-802c-4058-bb67-4363defca50e",
   "metadata": {},
   "source": [
    "![ohe](../../notebook-images/single-ohe.png)"
   ]
  },
  {
   "cell_type": "markdown",
   "id": "597ca8ab-cbcc-46a5-9a02-788607f29f1a",
   "metadata": {},
   "source": [
    "The first item is the number of categories. Sparks counts it by doing `n - 1`, where `n` is the number of unique categories we have.\n",
    "\n",
    "The second item refers to the index value of the category. In the example, 0 means it is france, and 1 means it is Germany.\n",
    "\n",
    "The last items is the presence or absence of value.\n",
    "\n",
    "In our example, we have 3 categories, France, Germany, and Spain.\n",
    "\n",
    "An important thing to note is that ti discards the last value. So, the empty brackets means it's refering to the last value"
   ]
  },
  {
   "cell_type": "markdown",
   "id": "cc39d28e-b648-4e1b-9238-fbc72e5552c7",
   "metadata": {
    "tags": []
   },
   "source": [
    "## Importing"
   ]
  },
  {
   "cell_type": "code",
   "execution_count": 1,
   "id": "4b11e27a-6d04-4762-8811-05a2ccf151e1",
   "metadata": {},
   "outputs": [],
   "source": [
    "import pyspark, findspark\n",
    "from pyspark.sql import SparkSession\n",
    "\n",
    "findspark.init()\n",
    "\n",
    "spark = SparkSession.builder.appName(\"ohe\").getOrCreate()"
   ]
  },
  {
   "cell_type": "code",
   "execution_count": 2,
   "id": "e16d1c09-6d36-4875-b55c-9e9f9a636805",
   "metadata": {},
   "outputs": [],
   "source": [
    "from pyspark.ml.feature import StringIndexer, OneHotEncoder"
   ]
  },
  {
   "cell_type": "markdown",
   "id": "b14fd40c-92ab-4426-990f-24635bc761a9",
   "metadata": {
    "jp-MarkdownHeadingCollapsed": true,
    "tags": []
   },
   "source": [
    "## Loading Data"
   ]
  },
  {
   "cell_type": "code",
   "execution_count": 3,
   "id": "01982a9c-677f-4d69-976f-359390bdf0a6",
   "metadata": {},
   "outputs": [
    {
     "name": "stdout",
     "output_type": "stream",
     "text": [
      "+-----------+---------+------+---+------+-------+-------------+---------+--------------+---------------+------+\n",
      "|CreditScore|Geography|Gender|Age|Tenure|Balance|NumOfProducts|HasCrCard|IsActiveMember|EstimatedSalary|Exited|\n",
      "+-----------+---------+------+---+------+-------+-------------+---------+--------------+---------------+------+\n",
      "|        619|   France|Female| 42|     2|      0|            1|        1|             1|       10134888|     1|\n",
      "|        608|    Spain|Female| 41|     1|8380786|            1|        0|             1|       11254258|     0|\n",
      "+-----------+---------+------+---+------+-------+-------------+---------+--------------+---------------+------+\n",
      "only showing top 2 rows\n",
      "\n"
     ]
    }
   ],
   "source": [
    "churn = spark.read.load(\n",
    "    \"../../data/Churn.csv\",\n",
    "    format=\"csv\",\n",
    "    sep=\";\",\n",
    "    header = True, \n",
    "    inferSchema=True)\n",
    "\n",
    "churn.show(2)"
   ]
  },
  {
   "cell_type": "markdown",
   "id": "eff08a4f-191b-4f28-a258-5ddd4e206c96",
   "metadata": {
    "tags": []
   },
   "source": [
    "## Taking Strings into Numbers With StringIndexer"
   ]
  },
  {
   "cell_type": "code",
   "execution_count": 4,
   "id": "65ed7840-8384-429f-bf11-dfdd5a71ad8a",
   "metadata": {},
   "outputs": [],
   "source": [
    "# Geography\n",
    "indexer = StringIndexer(\n",
    "    inputCol=\"Geography\",\n",
    "    outputCol=\"geo_index\"\n",
    ")\n",
    "churn = indexer.fit(churn).transform(churn)\n",
    "\n",
    "# Gender\n",
    "indexer = StringIndexer(\n",
    "    inputCol=\"Gender\",\n",
    "    outputCol=\"gender_index\"\n",
    ")\n",
    "\n",
    "\n",
    "churn = indexer.fit(churn).transform(churn)"
   ]
  },
  {
   "cell_type": "code",
   "execution_count": 5,
   "id": "4b4276aa-29dd-4538-badc-217e8e47c4bb",
   "metadata": {},
   "outputs": [
    {
     "name": "stdout",
     "output_type": "stream",
     "text": [
      "+-----------+---------+------+---+------+-------+-------------+---------+--------------+---------------+------+---------+------------+\n",
      "|CreditScore|Geography|Gender|Age|Tenure|Balance|NumOfProducts|HasCrCard|IsActiveMember|EstimatedSalary|Exited|geo_index|gender_index|\n",
      "+-----------+---------+------+---+------+-------+-------------+---------+--------------+---------------+------+---------+------------+\n",
      "|        619|   France|Female| 42|     2|      0|            1|        1|             1|       10134888|     1|      0.0|         1.0|\n",
      "|        608|    Spain|Female| 41|     1|8380786|            1|        0|             1|       11254258|     0|      2.0|         1.0|\n",
      "+-----------+---------+------+---+------+-------+-------------+---------+--------------+---------------+------+---------+------------+\n",
      "only showing top 2 rows\n",
      "\n"
     ]
    }
   ],
   "source": [
    "churn.show(2)"
   ]
  },
  {
   "cell_type": "markdown",
   "id": "9d8c0cfe-6787-4c54-8e0b-6833bb7235ff",
   "metadata": {},
   "source": [
    "Once we have both columns in the numeric format, we are able to perform the One Hot Encoding."
   ]
  },
  {
   "cell_type": "markdown",
   "id": "3b23f77b-0b74-4526-98bb-01e5112b3b69",
   "metadata": {},
   "source": [
    "## Using One Hot Encoder"
   ]
  },
  {
   "cell_type": "code",
   "execution_count": 7,
   "id": "273825f7-7491-479d-a785-4c0cc2a39ba6",
   "metadata": {},
   "outputs": [],
   "source": [
    "ohe = OneHotEncoder(\n",
    "    inputCols=[\"geo_index\",\"gender_index\"],\n",
    "    outputCols=[\"geo_ohe\", \"gender_ohe\"]\n",
    ")\n",
    "\n",
    "model = ohe.fit(churn)\n",
    "\n",
    "churn = model.transform(churn)"
   ]
  },
  {
   "cell_type": "code",
   "execution_count": 8,
   "id": "b1a7b5a5-b064-4975-a377-78731e4cb5df",
   "metadata": {},
   "outputs": [
    {
     "name": "stdout",
     "output_type": "stream",
     "text": [
      "+-----------+---------+------+---+------+-------+-------------+---------+--------------+---------------+------+---------+------------+-------------+----------+\n",
      "|CreditScore|Geography|Gender|Age|Tenure|Balance|NumOfProducts|HasCrCard|IsActiveMember|EstimatedSalary|Exited|geo_index|gender_index|      geo_ohe|gender_ohe|\n",
      "+-----------+---------+------+---+------+-------+-------------+---------+--------------+---------------+------+---------+------------+-------------+----------+\n",
      "|        619|   France|Female| 42|     2|      0|            1|        1|             1|       10134888|     1|      0.0|         1.0|(2,[0],[1.0])| (1,[],[])|\n",
      "|        608|    Spain|Female| 41|     1|8380786|            1|        0|             1|       11254258|     0|      2.0|         1.0|    (2,[],[])| (1,[],[])|\n",
      "+-----------+---------+------+---+------+-------+-------------+---------+--------------+---------------+------+---------+------------+-------------+----------+\n",
      "only showing top 2 rows\n",
      "\n"
     ]
    }
   ],
   "source": [
    "churn.show(2)"
   ]
  },
  {
   "cell_type": "code",
   "execution_count": 9,
   "id": "dc2b3114-a841-4206-82a4-8fd34c88803b",
   "metadata": {},
   "outputs": [
    {
     "name": "stdout",
     "output_type": "stream",
     "text": [
      "+---------+---------+-------------+\n",
      "|Geography|geo_index|      geo_ohe|\n",
      "+---------+---------+-------------+\n",
      "|   France|      0.0|(2,[0],[1.0])|\n",
      "|    Spain|      2.0|    (2,[],[])|\n",
      "|   France|      0.0|(2,[0],[1.0])|\n",
      "|   France|      0.0|(2,[0],[1.0])|\n",
      "|    Spain|      2.0|    (2,[],[])|\n",
      "+---------+---------+-------------+\n",
      "only showing top 5 rows\n",
      "\n"
     ]
    }
   ],
   "source": [
    "churn.select(\"Geography\", \"geo_index\", \"geo_ohe\").show(5)"
   ]
  },
  {
   "cell_type": "code",
   "execution_count": null,
   "id": "0ba3136e-0002-4099-b808-e2dc22349f55",
   "metadata": {},
   "outputs": [],
   "source": []
  }
 ],
 "metadata": {
  "kernelspec": {
   "display_name": "Python 3 (ipykernel)",
   "language": "python",
   "name": "python3"
  },
  "language_info": {
   "codemirror_mode": {
    "name": "ipython",
    "version": 3
   },
   "file_extension": ".py",
   "mimetype": "text/x-python",
   "name": "python",
   "nbconvert_exporter": "python",
   "pygments_lexer": "ipython3",
   "version": "3.10.6"
  }
 },
 "nbformat": 4,
 "nbformat_minor": 5
}
