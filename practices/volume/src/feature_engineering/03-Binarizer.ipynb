{
 "cells": [
  {
   "cell_type": "markdown",
   "id": "660b5366-707c-4d84-a2e9-179bd3327778",
   "metadata": {
    "tags": []
   },
   "source": [
    "# Binarizer - Creating a binary column base on the others"
   ]
  },
  {
   "cell_type": "markdown",
   "id": "cc39d28e-b648-4e1b-9238-fbc72e5552c7",
   "metadata": {},
   "source": [
    "## Importing"
   ]
  },
  {
   "cell_type": "code",
   "execution_count": 1,
   "id": "4b11e27a-6d04-4762-8811-05a2ccf151e1",
   "metadata": {},
   "outputs": [],
   "source": [
    "import pyspark, findspark\n",
    "from pyspark.sql import SparkSession\n",
    "\n",
    "findspark.init()\n",
    "\n",
    "spark = SparkSession.builder.appName(\"binarizer\").getOrCreate()"
   ]
  },
  {
   "cell_type": "code",
   "execution_count": 2,
   "id": "e16d1c09-6d36-4875-b55c-9e9f9a636805",
   "metadata": {},
   "outputs": [],
   "source": [
    "from pyspark.ml.feature import PCA, Binarizer"
   ]
  },
  {
   "cell_type": "markdown",
   "id": "b14fd40c-92ab-4426-990f-24635bc761a9",
   "metadata": {},
   "source": [
    "## Loading Data"
   ]
  },
  {
   "cell_type": "code",
   "execution_count": 5,
   "id": "01982a9c-677f-4d69-976f-359390bdf0a6",
   "metadata": {},
   "outputs": [
    {
     "name": "stdout",
     "output_type": "stream",
     "text": [
      "+-----------+----------+-----------+----------+-----------+\n",
      "|sepallength|sepalwidth|petallength|petalwidth|      class|\n",
      "+-----------+----------+-----------+----------+-----------+\n",
      "|        5.1|       3.5|        1.4|       0.2|Iris-setosa|\n",
      "|        4.9|       3.0|        1.4|       0.2|Iris-setosa|\n",
      "+-----------+----------+-----------+----------+-----------+\n",
      "only showing top 2 rows\n",
      "\n"
     ]
    }
   ],
   "source": [
    "iris = spark.read.csv(\"../../data/iris.csv\", header = True, inferSchema=True)\n",
    "iris.show(2)"
   ]
  },
  {
   "cell_type": "markdown",
   "id": "eff08a4f-191b-4f28-a258-5ddd4e206c96",
   "metadata": {},
   "source": [
    "## Using Binarizer"
   ]
  },
  {
   "cell_type": "code",
   "execution_count": 9,
   "id": "65ed7840-8384-429f-bf11-dfdd5a71ad8a",
   "metadata": {},
   "outputs": [],
   "source": [
    "binarizer = Binarizer(\n",
    "    threshold=5,\n",
    "    inputCol=\"sepallength\",\n",
    "    outputCol=\"sepallengthBin\"\n",
    ")"
   ]
  },
  {
   "cell_type": "code",
   "execution_count": 10,
   "id": "4e8004ea-e1f0-400b-ad1d-52d01921ff3e",
   "metadata": {},
   "outputs": [],
   "source": [
    "irisbin = binarizer.transform(iris)"
   ]
  },
  {
   "cell_type": "code",
   "execution_count": 11,
   "id": "df0c4f0c-4bf1-42cf-bd41-977f32108341",
   "metadata": {},
   "outputs": [
    {
     "name": "stdout",
     "output_type": "stream",
     "text": [
      "+-----------+----------+-----------+----------+-----------+--------------+\n",
      "|sepallength|sepalwidth|petallength|petalwidth|      class|sepallengthBin|\n",
      "+-----------+----------+-----------+----------+-----------+--------------+\n",
      "|        5.1|       3.5|        1.4|       0.2|Iris-setosa|           1.0|\n",
      "|        4.9|       3.0|        1.4|       0.2|Iris-setosa|           0.0|\n",
      "|        4.7|       3.2|        1.3|       0.2|Iris-setosa|           0.0|\n",
      "|        4.6|       3.1|        1.5|       0.2|Iris-setosa|           0.0|\n",
      "|        5.0|       3.6|        1.4|       0.2|Iris-setosa|           0.0|\n",
      "|        5.4|       3.9|        1.7|       0.4|Iris-setosa|           1.0|\n",
      "|        4.6|       3.4|        1.4|       0.3|Iris-setosa|           0.0|\n",
      "|        5.0|       3.4|        1.5|       0.2|Iris-setosa|           0.0|\n",
      "|        4.4|       2.9|        1.4|       0.2|Iris-setosa|           0.0|\n",
      "|        4.9|       3.1|        1.5|       0.1|Iris-setosa|           0.0|\n",
      "|        5.4|       3.7|        1.5|       0.2|Iris-setosa|           1.0|\n",
      "|        4.8|       3.4|        1.6|       0.2|Iris-setosa|           0.0|\n",
      "|        4.8|       3.0|        1.4|       0.1|Iris-setosa|           0.0|\n",
      "|        4.3|       3.0|        1.1|       0.1|Iris-setosa|           0.0|\n",
      "|        5.8|       4.0|        1.2|       0.2|Iris-setosa|           1.0|\n",
      "|        5.7|       4.4|        1.5|       0.4|Iris-setosa|           1.0|\n",
      "|        5.4|       3.9|        1.3|       0.4|Iris-setosa|           1.0|\n",
      "|        5.1|       3.5|        1.4|       0.3|Iris-setosa|           1.0|\n",
      "|        5.7|       3.8|        1.7|       0.3|Iris-setosa|           1.0|\n",
      "|        5.1|       3.8|        1.5|       0.3|Iris-setosa|           1.0|\n",
      "+-----------+----------+-----------+----------+-----------+--------------+\n",
      "only showing top 20 rows\n",
      "\n"
     ]
    }
   ],
   "source": [
    "irisbin.show()"
   ]
  }
 ],
 "metadata": {
  "kernelspec": {
   "display_name": "Python 3 (ipykernel)",
   "language": "python",
   "name": "python3"
  },
  "language_info": {
   "codemirror_mode": {
    "name": "ipython",
    "version": 3
   },
   "file_extension": ".py",
   "mimetype": "text/x-python",
   "name": "python",
   "nbconvert_exporter": "python",
   "pygments_lexer": "ipython3",
   "version": "3.10.6"
  }
 },
 "nbformat": 4,
 "nbformat_minor": 5
}
