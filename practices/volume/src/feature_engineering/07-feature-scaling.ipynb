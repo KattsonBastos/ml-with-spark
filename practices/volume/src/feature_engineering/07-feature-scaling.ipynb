{
 "cells": [
  {
   "cell_type": "markdown",
   "id": "55721be5-74d1-455b-9baa-54b111eabac5",
   "metadata": {},
   "source": [
    "## Importing"
   ]
  },
  {
   "cell_type": "code",
   "execution_count": 1,
   "id": "04b91894-f931-47f6-b299-08eccf5455ac",
   "metadata": {},
   "outputs": [],
   "source": [
    "import pyspark, findspark\n",
    "from pyspark.sql import SparkSession\n",
    "\n",
    "findspark.init()\n",
    "\n",
    "spark = SparkSession.builder.appName(\"scaling\").getOrCreate()"
   ]
  },
  {
   "cell_type": "code",
   "execution_count": 2,
   "id": "94c06410-9442-450f-849f-d03dd4f6a04e",
   "metadata": {},
   "outputs": [],
   "source": [
    "from pyspark.ml.feature import Normalizer, VectorAssembler, StandardScaler, MinMaxScaler, RobustScaler"
   ]
  },
  {
   "cell_type": "markdown",
   "id": "aaeef4f9-f2c5-426e-9c85-8862da6ca26e",
   "metadata": {},
   "source": [
    "## Loading Data"
   ]
  },
  {
   "cell_type": "code",
   "execution_count": 3,
   "id": "7b4598fa-1bf0-4053-852f-0726b683b44d",
   "metadata": {},
   "outputs": [
    {
     "name": "stdout",
     "output_type": "stream",
     "text": [
      "+-------+---------+-----------+---------------+----+-----+---------+-----------+-------+-----------+---+\n",
      "|Consumo|Cilindros|Cilindradas|RelEixoTraseiro|Peso|Tempo|TipoMotor|Transmissao|Marchas|Carburadors| HP|\n",
      "+-------+---------+-----------+---------------+----+-----+---------+-----------+-------+-----------+---+\n",
      "|     21|        6|        160|             39| 262| 1646|        0|          1|      4|          4|110|\n",
      "|     21|        6|        160|             39|2875| 1702|        0|          1|      4|          4|110|\n",
      "+-------+---------+-----------+---------------+----+-----+---------+-----------+-------+-----------+---+\n",
      "only showing top 2 rows\n",
      "\n"
     ]
    }
   ],
   "source": [
    "cars = spark.read.load(\n",
    "    \"../../data/Carros.csv\",\n",
    "    format=\"csv\",\n",
    "    sep=\";\",\n",
    "    header = True, \n",
    "    inferSchema=True)\n",
    "\n",
    "cars.show(2)"
   ]
  },
  {
   "cell_type": "markdown",
   "id": "7d40120b-c0a6-42e6-9fd8-3f7e07560d5a",
   "metadata": {},
   "source": [
    "## Vectorizing"
   ]
  },
  {
   "cell_type": "code",
   "execution_count": 4,
   "id": "f47684f9-14a8-444f-9770-51c5ad711857",
   "metadata": {},
   "outputs": [
    {
     "name": "stdout",
     "output_type": "stream",
     "text": [
      "+-------+---------+-----------+----------------+\n",
      "|Consumo|Cilindros|Cilindradas|matrix          |\n",
      "+-------+---------+-----------+----------------+\n",
      "|21     |6        |160        |[21.0,6.0,160.0]|\n",
      "|21     |6        |160        |[21.0,6.0,160.0]|\n",
      "+-------+---------+-----------+----------------+\n",
      "only showing top 2 rows\n",
      "\n"
     ]
    }
   ],
   "source": [
    "vectas = VectorAssembler(\n",
    "    inputCols=['Consumo','Cilindros','Cilindradas'],\n",
    "    outputCol=\"matrix\"\n",
    ")\n",
    "\n",
    "cars = vectas.transform(cars)\n",
    "\n",
    "cars.select('Consumo','Cilindros','Cilindradas', 'matrix').show(2, truncate=False)"
   ]
  },
  {
   "cell_type": "markdown",
   "id": "170381f7-7fd9-4edb-889e-3380581875ce",
   "metadata": {},
   "source": [
    "## Normalizing"
   ]
  },
  {
   "cell_type": "code",
   "execution_count": 5,
   "id": "df6c93a2-84e8-43c7-88c9-f9e5abadeb64",
   "metadata": {},
   "outputs": [
    {
     "name": "stdout",
     "output_type": "stream",
     "text": [
      "+-------+---------+-----------+----------------+------------------------------------------------------------+\n",
      "|Consumo|Cilindros|Cilindradas|matrix          |matrixNorm                                                  |\n",
      "+-------+---------+-----------+----------------+------------------------------------------------------------+\n",
      "|21     |6        |160        |[21.0,6.0,160.0]|[0.11229946524064172,0.03208556149732621,0.8556149732620321]|\n",
      "|21     |6        |160        |[21.0,6.0,160.0]|[0.11229946524064172,0.03208556149732621,0.8556149732620321]|\n",
      "+-------+---------+-----------+----------------+------------------------------------------------------------+\n",
      "only showing top 2 rows\n",
      "\n"
     ]
    }
   ],
   "source": [
    "scaler = Normalizer(\n",
    "    inputCol=\"matrix\",\n",
    "    outputCol=\"MatrixNorm\",\n",
    "    p=1.0\n",
    ")\n",
    "\n",
    "cars = scaler.transform(cars)\n",
    "\n",
    "cars.select('Consumo','Cilindros','Cilindradas', 'matrix', 'matrixNorm').show(2, truncate=False)"
   ]
  },
  {
   "cell_type": "markdown",
   "id": "5e0c59e1-5ac8-4343-9c5e-700beb180fb6",
   "metadata": {},
   "source": [
    "## StandardScaler"
   ]
  },
  {
   "cell_type": "markdown",
   "id": "11eed095-172c-4057-a0ef-f509a8101cf6",
   "metadata": {},
   "source": [
    "We have to pass two important arguments in the PySpark's StandardScaler: `withStd` and `withMean`.\n",
    "\n",
    "- `withStd`: scale to unit std\n",
    "- `withMean`: center data with mean before scaling."
   ]
  },
  {
   "cell_type": "code",
   "execution_count": 7,
   "id": "4e84966c-9663-4c63-8196-3f06fcba9c19",
   "metadata": {},
   "outputs": [
    {
     "name": "stdout",
     "output_type": "stream",
     "text": [
      "+----------------+------------------------------------------------------------+-----------------------------------------------------------+\n",
      "|matrix          |matrixNorm                                                  |MatrixSS                                                   |\n",
      "+----------------+------------------------------------------------------------+-----------------------------------------------------------+\n",
      "|[21.0,6.0,160.0]|[0.11229946524064172,0.03208556149732621,0.8556149732620321]|[0.24996122082808128,3.359609874407659,0.20137542427273997]|\n",
      "|[21.0,6.0,160.0]|[0.11229946524064172,0.03208556149732621,0.8556149732620321]|[0.24996122082808128,3.359609874407659,0.20137542427273997]|\n",
      "+----------------+------------------------------------------------------------+-----------------------------------------------------------+\n",
      "only showing top 2 rows\n",
      "\n"
     ]
    }
   ],
   "source": [
    "scaler = StandardScaler(\n",
    "    inputCol=\"matrix\",\n",
    "    outputCol=\"MatrixSS\",\n",
    "    withStd=True,\n",
    "    withMean=False\n",
    ")\n",
    "\n",
    "scaler = scaler.fit(cars)\n",
    "\n",
    "cars = scaler.transform(cars)\n",
    "\n",
    "cars.select('matrix', 'matrixNorm', 'MatrixSS').show(2, truncate=False)"
   ]
  },
  {
   "cell_type": "markdown",
   "id": "96e280d7-0bce-44da-a6be-3e1ca0d5d584",
   "metadata": {},
   "source": [
    "## RobustScaler"
   ]
  },
  {
   "cell_type": "markdown",
   "id": "03dc1560-162e-4a76-8a8e-a01b1900ee6f",
   "metadata": {},
   "source": [
    "Params:\n",
    "\n",
    "- `lower`: lower quantile to calculate quantile range\n",
    "- `upper`: upper quantile to calculate quantile range\n",
    "- `withScaling`:whether to scale the data to quantile range\n",
    "- `withCentering`: whether to center data with median"
   ]
  },
  {
   "cell_type": "code",
   "execution_count": 9,
   "id": "21475068-9f9d-4a49-be37-26f3c93f0cf6",
   "metadata": {},
   "outputs": [
    {
     "name": "stdout",
     "output_type": "stream",
     "text": [
      "+----------------+------------------------------------------------------------+-----------------------------------------------------------+---------------------------------------------+\n",
      "|matrix          |matrixNorm                                                  |MatrixSS                                                   |MatrixRS                                     |\n",
      "+----------------+------------------------------------------------------------+-----------------------------------------------------------+---------------------------------------------+\n",
      "|[21.0,6.0,160.0]|[0.11229946524064172,0.03208556149732621,0.8556149732620321]|[0.24996122082808128,3.359609874407659,0.20137542427273997]|[0.29166666666666663,1.5,0.16967126193001061]|\n",
      "|[21.0,6.0,160.0]|[0.11229946524064172,0.03208556149732621,0.8556149732620321]|[0.24996122082808128,3.359609874407659,0.20137542427273997]|[0.29166666666666663,1.5,0.16967126193001061]|\n",
      "+----------------+------------------------------------------------------------+-----------------------------------------------------------+---------------------------------------------+\n",
      "only showing top 2 rows\n",
      "\n"
     ]
    }
   ],
   "source": [
    "scaler = RobustScaler(\n",
    "    inputCol=\"matrix\",\n",
    "    outputCol=\"MatrixRS\",\n",
    "    withScaling=True,\n",
    "    withCentering=False,\n",
    "    lower=0.25,\n",
    "    upper=0.75\n",
    ")\n",
    "\n",
    "scaler = scaler.fit(cars)\n",
    "\n",
    "cars = scaler.transform(cars)\n",
    "\n",
    "cars.select('matrix', 'matrixNorm', 'MatrixSS', 'MatrixRS').show(2, truncate=False)"
   ]
  },
  {
   "cell_type": "markdown",
   "id": "acbf947a-5dea-468f-a950-d0f7e6dace5a",
   "metadata": {},
   "source": [
    "## MinMaxScaler"
   ]
  },
  {
   "cell_type": "markdown",
   "id": "6b7968a9-6a66-4b72-b17f-b395c70f86bb",
   "metadata": {},
   "source": [
    "Params:\n",
    "\n",
    "- `Min`: lower bound of the output feature range\n",
    "- `Max`: upper bound of the output feature range"
   ]
  },
  {
   "cell_type": "code",
   "execution_count": 12,
   "id": "59c05498-2ea6-4d0b-a0d4-ab611ac2c887",
   "metadata": {},
   "outputs": [
    {
     "name": "stdout",
     "output_type": "stream",
     "text": [
      "+----------------+------------------------------------------------------------+-----------------------------------------------------------+---------------------------------------------+-----------------------------------------------+\n",
      "|matrix          |matrixNorm                                                  |MatrixSS                                                   |MatrixRS                                     |MatrixMM                                       |\n",
      "+----------------+------------------------------------------------------------+-----------------------------------------------------------+---------------------------------------------+-----------------------------------------------+\n",
      "|[21.0,6.0,160.0]|[0.11229946524064172,0.03208556149732621,0.8556149732620321]|[0.24996122082808128,3.359609874407659,0.20137542427273997]|[0.29166666666666663,1.5,0.16967126193001061]|[0.018518518518518517,0.5,0.030235162374020158]|\n",
      "|[21.0,6.0,160.0]|[0.11229946524064172,0.03208556149732621,0.8556149732620321]|[0.24996122082808128,3.359609874407659,0.20137542427273997]|[0.29166666666666663,1.5,0.16967126193001061]|[0.018518518518518517,0.5,0.030235162374020158]|\n",
      "+----------------+------------------------------------------------------------+-----------------------------------------------------------+---------------------------------------------+-----------------------------------------------+\n",
      "only showing top 2 rows\n",
      "\n"
     ]
    }
   ],
   "source": [
    "scaler = MinMaxScaler(\n",
    "    inputCol=\"matrix\",\n",
    "    outputCol=\"MatrixMM\",\n",
    "    min=0,\n",
    "    max=1\n",
    ")\n",
    "\n",
    "scaler = scaler.fit(cars)\n",
    "\n",
    "cars = scaler.transform(cars)\n",
    "\n",
    "cars.select('matrix', 'matrixNorm', 'MatrixSS', 'MatrixRS', 'MatrixMM').show(2, truncate=False)"
   ]
  },
  {
   "cell_type": "code",
   "execution_count": null,
   "id": "8868801b-77bc-4895-a813-609b61115918",
   "metadata": {},
   "outputs": [],
   "source": []
  }
 ],
 "metadata": {
  "kernelspec": {
   "display_name": "Python 3 (ipykernel)",
   "language": "python",
   "name": "python3"
  },
  "language_info": {
   "codemirror_mode": {
    "name": "ipython",
    "version": 3
   },
   "file_extension": ".py",
   "mimetype": "text/x-python",
   "name": "python",
   "nbconvert_exporter": "python",
   "pygments_lexer": "ipython3",
   "version": "3.10.6"
  }
 },
 "nbformat": 4,
 "nbformat_minor": 5
}
