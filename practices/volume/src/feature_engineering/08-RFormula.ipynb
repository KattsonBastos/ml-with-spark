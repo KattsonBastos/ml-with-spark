{
 "cells": [
  {
   "cell_type": "markdown",
   "id": "660b5366-707c-4d84-a2e9-179bd3327778",
   "metadata": {
    "tags": []
   },
   "source": [
    "# RFormula: taking our data tothe right shape for model training"
   ]
  },
  {
   "cell_type": "markdown",
   "id": "5fe69671-b4d6-49ea-9094-27e7bf9082a4",
   "metadata": {},
   "source": [
    "This method make some transformations in data in order to make them ready for being input to ML models."
   ]
  },
  {
   "cell_type": "markdown",
   "id": "cc39d28e-b648-4e1b-9238-fbc72e5552c7",
   "metadata": {
    "tags": []
   },
   "source": [
    "## Importing"
   ]
  },
  {
   "cell_type": "code",
   "execution_count": 1,
   "id": "4b11e27a-6d04-4762-8811-05a2ccf151e1",
   "metadata": {},
   "outputs": [],
   "source": [
    "import pyspark, findspark\n",
    "from pyspark.sql import SparkSession\n",
    "\n",
    "findspark.init()\n",
    "\n",
    "spark = SparkSession.builder.appName(\"rforumla\").getOrCreate()"
   ]
  },
  {
   "cell_type": "code",
   "execution_count": 3,
   "id": "e16d1c09-6d36-4875-b55c-9e9f9a636805",
   "metadata": {},
   "outputs": [],
   "source": [
    "from pyspark.ml.feature import RFormula, VectorAssembler"
   ]
  },
  {
   "cell_type": "markdown",
   "id": "b14fd40c-92ab-4426-990f-24635bc761a9",
   "metadata": {
    "tags": []
   },
   "source": [
    "## Loading Data"
   ]
  },
  {
   "cell_type": "code",
   "execution_count": 4,
   "id": "01982a9c-677f-4d69-976f-359390bdf0a6",
   "metadata": {},
   "outputs": [
    {
     "name": "stdout",
     "output_type": "stream",
     "text": [
      "+-------+---------+-----------+---------------+----+-----+---------+-----------+-------+-----------+---+\n",
      "|Consumo|Cilindros|Cilindradas|RelEixoTraseiro|Peso|Tempo|TipoMotor|Transmissao|Marchas|Carburadors| HP|\n",
      "+-------+---------+-----------+---------------+----+-----+---------+-----------+-------+-----------+---+\n",
      "|     21|        6|        160|             39| 262| 1646|        0|          1|      4|          4|110|\n",
      "|     21|        6|        160|             39|2875| 1702|        0|          1|      4|          4|110|\n",
      "+-------+---------+-----------+---------------+----+-----+---------+-----------+-------+-----------+---+\n",
      "only showing top 2 rows\n",
      "\n"
     ]
    }
   ],
   "source": [
    "cars = spark.read.load(\n",
    "    \"../../data/Carros.csv\",\n",
    "    format=\"csv\",\n",
    "    sep=\";\",\n",
    "    header = True, \n",
    "    inferSchema=True)\n",
    "\n",
    "cars.show(2)"
   ]
  },
  {
   "cell_type": "markdown",
   "id": "eff08a4f-191b-4f28-a258-5ddd4e206c96",
   "metadata": {
    "tags": []
   },
   "source": [
    "## Applying RFormula"
   ]
  },
  {
   "cell_type": "code",
   "execution_count": 9,
   "id": "19cba7ae-36c8-40f7-934e-baac3e23e2c2",
   "metadata": {},
   "outputs": [],
   "source": [
    "rformula = RFormula(\n",
    "    formula='HP ~ Consumo + Cilindros + Cilindradas',\n",
    "    featuresCol=\"features\",\n",
    "    labelCol=\"target\"\n",
    ")\n",
    "cars = rformula.fit(cars).transform(cars)"
   ]
  },
  {
   "cell_type": "code",
   "execution_count": 12,
   "id": "0f919c68-e4fc-4f6b-9343-f71a6a6c1453",
   "metadata": {},
   "outputs": [
    {
     "name": "stdout",
     "output_type": "stream",
     "text": [
      "+------------------+------+\n",
      "|          features|target|\n",
      "+------------------+------+\n",
      "|  [21.0,6.0,160.0]| 110.0|\n",
      "|  [21.0,6.0,160.0]| 110.0|\n",
      "| [228.0,4.0,108.0]|  93.0|\n",
      "| [214.0,6.0,258.0]| 110.0|\n",
      "| [187.0,8.0,360.0]| 175.0|\n",
      "| [181.0,6.0,225.0]| 105.0|\n",
      "| [143.0,8.0,360.0]| 245.0|\n",
      "|[244.0,4.0,1467.0]|  62.0|\n",
      "|[228.0,4.0,1408.0]|  95.0|\n",
      "|[192.0,6.0,1676.0]| 123.0|\n",
      "+------------------+------+\n",
      "only showing top 10 rows\n",
      "\n"
     ]
    }
   ],
   "source": [
    "cars.select(\"features\", \"target\").show(10)"
   ]
  }
 ],
 "metadata": {
  "kernelspec": {
   "display_name": "Python 3 (ipykernel)",
   "language": "python",
   "name": "python3"
  },
  "language_info": {
   "codemirror_mode": {
    "name": "ipython",
    "version": 3
   },
   "file_extension": ".py",
   "mimetype": "text/x-python",
   "name": "python",
   "nbconvert_exporter": "python",
   "pygments_lexer": "ipython3",
   "version": "3.10.6"
  }
 },
 "nbformat": 4,
 "nbformat_minor": 5
}
