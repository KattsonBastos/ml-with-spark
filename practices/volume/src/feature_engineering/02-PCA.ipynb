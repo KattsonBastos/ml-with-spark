{
 "cells": [
  {
   "cell_type": "markdown",
   "id": "660b5366-707c-4d84-a2e9-179bd3327778",
   "metadata": {
    "tags": []
   },
   "source": [
    "# Principal Component Analysis - Going from High to Low Dimensionality"
   ]
  },
  {
   "cell_type": "markdown",
   "id": "08202688-78e1-447a-9a63-7b8450f3a92e",
   "metadata": {},
   "source": [
    "PCA creates synthetic features from the original ones by combining them.\n",
    "\n",
    "The idea of this new set of features is to have a low dimension."
   ]
  },
  {
   "cell_type": "markdown",
   "id": "cc39d28e-b648-4e1b-9238-fbc72e5552c7",
   "metadata": {},
   "source": [
    "## Importing"
   ]
  },
  {
   "cell_type": "code",
   "execution_count": 21,
   "id": "4b11e27a-6d04-4762-8811-05a2ccf151e1",
   "metadata": {},
   "outputs": [],
   "source": [
    "import pyspark, findspark\n",
    "from pyspark.sql import SparkSession\n",
    "\n",
    "findspark.init()\n",
    "\n",
    "spark = SparkSession.builder.appName(\"pca\").getOrCreate()"
   ]
  },
  {
   "cell_type": "code",
   "execution_count": 22,
   "id": "e16d1c09-6d36-4875-b55c-9e9f9a636805",
   "metadata": {},
   "outputs": [],
   "source": [
    "from pyspark.ml.feature import PCA, VectorAssembler"
   ]
  },
  {
   "cell_type": "markdown",
   "id": "b14fd40c-92ab-4426-990f-24635bc761a9",
   "metadata": {},
   "source": [
    "## Loading Data"
   ]
  },
  {
   "cell_type": "code",
   "execution_count": 23,
   "id": "01982a9c-677f-4d69-976f-359390bdf0a6",
   "metadata": {},
   "outputs": [
    {
     "name": "stdout",
     "output_type": "stream",
     "text": [
      "+-------+---------+-----------+---------------+----+-----+---------+-----------+-------+-----------+---+\n",
      "|Consumo|Cilindros|Cilindradas|RelEixoTraseiro|Peso|Tempo|TipoMotor|Transmissao|Marchas|Carburadors| HP|\n",
      "+-------+---------+-----------+---------------+----+-----+---------+-----------+-------+-----------+---+\n",
      "|     21|        6|        160|             39| 262| 1646|        0|          1|      4|          4|110|\n",
      "|     21|        6|        160|             39|2875| 1702|        0|          1|      4|          4|110|\n",
      "+-------+---------+-----------+---------------+----+-----+---------+-----------+-------+-----------+---+\n",
      "only showing top 2 rows\n",
      "\n"
     ]
    }
   ],
   "source": [
    "cars = spark.read.csv(\"../../data/Carros.csv\", header = True, inferSchema=True, sep=';')\n",
    "cars.show(2)"
   ]
  },
  {
   "cell_type": "markdown",
   "id": "eff08a4f-191b-4f28-a258-5ddd4e206c96",
   "metadata": {},
   "source": [
    "## Using PCA"
   ]
  },
  {
   "cell_type": "markdown",
   "id": "32e53029-0300-44b2-bfb5-18dd1348c7dd",
   "metadata": {},
   "source": [
    "In PySpark, PCA receives a feature vector object, not a dataframe.\n",
    "\n",
    "So, first we need to create this feature column in the dataset with.\n",
    "\n",
    "**VectorAssembler**\n",
    "- instantiate the object\n",
    "- pass the input column\n",
    "- pass the output column name\n",
    "- use the output column as input to PCA\n",
    "\n",
    "**PCA**\n",
    "- instantiate the object\n",
    "- fit on the dataset\n",
    "- transform the dataset and get the results"
   ]
  },
  {
   "cell_type": "markdown",
   "id": "fc98b710-997a-454e-85f8-76672a54f627",
   "metadata": {},
   "source": [
    "### Creating the object"
   ]
  },
  {
   "cell_type": "markdown",
   "id": "66cb0d5c-a688-4ac1-84b8-11c6a400205d",
   "metadata": {},
   "source": [
    "We have to pass to the object as a parameters the feature list.\n",
    "To easily get that, we'll use the the following method to get the `cars` dataset column names.\n",
    "However, we'll exclude the `HP` columns, since it is the target variable."
   ]
  },
  {
   "cell_type": "code",
   "execution_count": 24,
   "id": "23f58315-3db0-43ae-8c8c-82d256eb1dca",
   "metadata": {},
   "outputs": [
    {
     "data": {
      "text/plain": [
       "['Consumo',\n",
       " 'Cilindros',\n",
       " 'Cilindradas',\n",
       " 'RelEixoTraseiro',\n",
       " 'Peso',\n",
       " 'Tempo',\n",
       " 'TipoMotor',\n",
       " 'Transmissao',\n",
       " 'Marchas',\n",
       " 'Carburadors']"
      ]
     },
     "execution_count": 24,
     "metadata": {},
     "output_type": "execute_result"
    }
   ],
   "source": [
    "features_list = [feat.name for feat in cars.schema.fields if feat.name != 'HP']\n",
    "features_list"
   ]
  },
  {
   "cell_type": "code",
   "execution_count": 25,
   "id": "9fba186b-2447-40ea-81ba-602bb7f40df7",
   "metadata": {},
   "outputs": [
    {
     "name": "stdout",
     "output_type": "stream",
     "text": [
      "+---------------------------------------------------+\n",
      "|features                                           |\n",
      "+---------------------------------------------------+\n",
      "|[21.0,6.0,160.0,39.0,262.0,1646.0,0.0,1.0,4.0,4.0] |\n",
      "|[21.0,6.0,160.0,39.0,2875.0,1702.0,0.0,1.0,4.0,4.0]|\n",
      "+---------------------------------------------------+\n",
      "only showing top 2 rows\n",
      "\n"
     ]
    }
   ],
   "source": [
    "vectas = VectorAssembler(\n",
    "    inputCols=features_list,\n",
    "    outputCol=\"features\"\n",
    ")\n",
    "\n",
    "cars = vectas.transform(cars)\n",
    "cars.select(\"features\").show(2, truncate=False)"
   ]
  },
  {
   "cell_type": "code",
   "execution_count": 30,
   "id": "e6d9403a-da2e-4515-bf18-3a261dde2352",
   "metadata": {},
   "outputs": [],
   "source": [
    "pca = PCA(k=3, inputCol=\"features\", outputCol=\"featuresPCA\")\n",
    "\n",
    "pca_model = pca.fit(cars)"
   ]
  },
  {
   "cell_type": "code",
   "execution_count": null,
   "id": "df5179c0-7521-40ec-9065-5ea50e6d1bd1",
   "metadata": {},
   "outputs": [],
   "source": [
    "pca.transform()"
   ]
  }
 ],
 "metadata": {
  "kernelspec": {
   "display_name": "Python 3 (ipykernel)",
   "language": "python",
   "name": "python3"
  },
  "language_info": {
   "codemirror_mode": {
    "name": "ipython",
    "version": 3
   },
   "file_extension": ".py",
   "mimetype": "text/x-python",
   "name": "python",
   "nbconvert_exporter": "python",
   "pygments_lexer": "ipython3",
   "version": "3.10.6"
  }
 },
 "nbformat": 4,
 "nbformat_minor": 5
}
