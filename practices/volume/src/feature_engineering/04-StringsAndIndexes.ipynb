{
 "cells": [
  {
   "cell_type": "markdown",
   "id": "660b5366-707c-4d84-a2e9-179bd3327778",
   "metadata": {
    "tags": []
   },
   "source": [
    "# Strings and Indexes - String's Categorization"
   ]
  },
  {
   "cell_type": "markdown",
   "id": "b53b5f52-aa73-4d6a-ac38-d0711306fbbd",
   "metadata": {},
   "source": [
    "In this notebook, we'll see two techniques:\n",
    "\n",
    "- StringIndex: transforms string categories into numbers\n",
    "- IndexToString: transforms the numbers back to string"
   ]
  },
  {
   "cell_type": "markdown",
   "id": "7980ae82-8cf2-4123-80df-bd03a6d7c336",
   "metadata": {},
   "source": [
    "The idea of `StringIndex` is to create a model based on a set o data and then use it to transform other data sets."
   ]
  },
  {
   "cell_type": "markdown",
   "id": "4ae2f6b8-b27f-4bd2-a3aa-5556d9ad983f",
   "metadata": {},
   "source": [
    "However, there can be a scenario where the new dataset has a different value (a value that was not present when the model was fitted in the first dataset). So, we can choose what it should do by passing the following parameters:\n",
    "\n",
    "`handleInvalid`:\n",
    "- Exception (default): 'error'\n",
    "- Omit: 'skip'\n",
    "- set the value as unknown: 'keep'"
   ]
  },
  {
   "cell_type": "markdown",
   "id": "9378a830-1534-40eb-ab40-cd2d0b526202",
   "metadata": {},
   "source": [
    "_An important thing to note is that it assign the first value for the most frequent category and so on._"
   ]
  },
  {
   "cell_type": "markdown",
   "id": "cc39d28e-b648-4e1b-9238-fbc72e5552c7",
   "metadata": {},
   "source": [
    "## Importing"
   ]
  },
  {
   "cell_type": "code",
   "execution_count": 5,
   "id": "4b11e27a-6d04-4762-8811-05a2ccf151e1",
   "metadata": {},
   "outputs": [],
   "source": [
    "import pyspark, findspark\n",
    "from pyspark.sql import SparkSession\n",
    "\n",
    "findspark.init()\n",
    "\n",
    "spark = SparkSession.builder.appName(\"stringindexer\").getOrCreate()"
   ]
  },
  {
   "cell_type": "code",
   "execution_count": 6,
   "id": "e16d1c09-6d36-4875-b55c-9e9f9a636805",
   "metadata": {},
   "outputs": [],
   "source": [
    "from pyspark.ml.feature import StringIndexer, IndexToString"
   ]
  },
  {
   "cell_type": "markdown",
   "id": "b14fd40c-92ab-4426-990f-24635bc761a9",
   "metadata": {},
   "source": [
    "## Loading Data"
   ]
  },
  {
   "cell_type": "code",
   "execution_count": 7,
   "id": "01982a9c-677f-4d69-976f-359390bdf0a6",
   "metadata": {},
   "outputs": [
    {
     "name": "stdout",
     "output_type": "stream",
     "text": [
      "+-----------+---------+------+---+------+-------+-------------+---------+--------------+---------------+------+\n",
      "|CreditScore|Geography|Gender|Age|Tenure|Balance|NumOfProducts|HasCrCard|IsActiveMember|EstimatedSalary|Exited|\n",
      "+-----------+---------+------+---+------+-------+-------------+---------+--------------+---------------+------+\n",
      "|        619|   France|Female| 42|     2|      0|            1|        1|             1|       10134888|     1|\n",
      "|        608|    Spain|Female| 41|     1|8380786|            1|        0|             1|       11254258|     0|\n",
      "+-----------+---------+------+---+------+-------+-------------+---------+--------------+---------------+------+\n",
      "only showing top 2 rows\n",
      "\n"
     ]
    }
   ],
   "source": [
    "churn = spark.read.load(\n",
    "    \"../../data/Churn.csv\",\n",
    "    format=\"csv\",\n",
    "    sep=\";\",\n",
    "    header = True, \n",
    "    inferSchema=True)\n",
    "\n",
    "churn.show(2)"
   ]
  },
  {
   "cell_type": "markdown",
   "id": "eff08a4f-191b-4f28-a258-5ddd4e206c96",
   "metadata": {},
   "source": [
    "## Using StringIndexer"
   ]
  },
  {
   "cell_type": "markdown",
   "id": "79785f2f-65b7-44eb-8cc0-890055e20745",
   "metadata": {},
   "source": [
    "Taking a string column, `Geography`, into a numeric column.\n",
    "\n",
    "We have to pass to this method the input column and the name we want to the output columns.\n",
    "\n",
    "As the other Spark's techniques, it works similar to sklearn classes: first we fit the model, and then we apply the transformation."
   ]
  },
  {
   "cell_type": "code",
   "execution_count": 8,
   "id": "15d69085-bda7-4727-bc34-b2ce198798e8",
   "metadata": {},
   "outputs": [],
   "source": [
    "geo_index = StringIndexer(\n",
    "    inputCol=\"Geography\",\n",
    "    outputCol=\"geo_index\"\n",
    ")\n",
    "\n",
    "indexer_model = geo_index.fit(churn)\n",
    "churn = indexer_model.transform(churn)"
   ]
  },
  {
   "cell_type": "code",
   "execution_count": 9,
   "id": "2c63cd99-89d8-42a2-9743-fc3f23e25550",
   "metadata": {},
   "outputs": [
    {
     "name": "stdout",
     "output_type": "stream",
     "text": [
      "+---------+---------+\n",
      "|Geography|geo_index|\n",
      "+---------+---------+\n",
      "|France   |0.0      |\n",
      "|Spain    |2.0      |\n",
      "|France   |0.0      |\n",
      "|France   |0.0      |\n",
      "|Spain    |2.0      |\n",
      "|Spain    |2.0      |\n",
      "|France   |0.0      |\n",
      "|Germany  |1.0      |\n",
      "|France   |0.0      |\n",
      "|France   |0.0      |\n",
      "|France   |0.0      |\n",
      "|Spain    |2.0      |\n",
      "|France   |0.0      |\n",
      "|France   |0.0      |\n",
      "|Spain    |2.0      |\n",
      "|Germany  |1.0      |\n",
      "|Germany  |1.0      |\n",
      "|Spain    |2.0      |\n",
      "|Spain    |2.0      |\n",
      "|France   |0.0      |\n",
      "+---------+---------+\n",
      "only showing top 20 rows\n",
      "\n"
     ]
    }
   ],
   "source": [
    "churn.select(\"Geography\", \"geo_index\").show(truncate=False)"
   ]
  },
  {
   "cell_type": "markdown",
   "id": "9988169a-82eb-4126-bbd2-70b20b504da9",
   "metadata": {},
   "source": [
    "## Using IndexToString"
   ]
  },
  {
   "cell_type": "markdown",
   "id": "e7cdde98-9fbe-4bc8-a890-ef1cc1015fb8",
   "metadata": {},
   "source": [
    "This one works very similar to `StringIndex`, but we don't have to fit it, we just have to apply the trasnsformation an then get the categories back."
   ]
  },
  {
   "cell_type": "code",
   "execution_count": 11,
   "id": "e8e76fe8-a1a4-4ec2-9f70-434ed53be70b",
   "metadata": {},
   "outputs": [],
   "source": [
    "geo_original = IndexToString(\n",
    "    inputCol=\"geo_index\",\n",
    "    outputCol=\"geo_original\"\n",
    ")\n",
    "\n",
    "churn = geo_original.transform(churn)"
   ]
  },
  {
   "cell_type": "code",
   "execution_count": 12,
   "id": "b6663343-d64e-4eef-b141-70d5e544cb74",
   "metadata": {},
   "outputs": [
    {
     "name": "stdout",
     "output_type": "stream",
     "text": [
      "+---------+---------+------------+\n",
      "|Geography|geo_index|geo_original|\n",
      "+---------+---------+------------+\n",
      "|France   |0.0      |France      |\n",
      "|Spain    |2.0      |Spain       |\n",
      "|France   |0.0      |France      |\n",
      "|France   |0.0      |France      |\n",
      "|Spain    |2.0      |Spain       |\n",
      "|Spain    |2.0      |Spain       |\n",
      "|France   |0.0      |France      |\n",
      "|Germany  |1.0      |Germany     |\n",
      "|France   |0.0      |France      |\n",
      "|France   |0.0      |France      |\n",
      "|France   |0.0      |France      |\n",
      "|Spain    |2.0      |Spain       |\n",
      "|France   |0.0      |France      |\n",
      "|France   |0.0      |France      |\n",
      "|Spain    |2.0      |Spain       |\n",
      "|Germany  |1.0      |Germany     |\n",
      "|Germany  |1.0      |Germany     |\n",
      "|Spain    |2.0      |Spain       |\n",
      "|Spain    |2.0      |Spain       |\n",
      "|France   |0.0      |France      |\n",
      "+---------+---------+------------+\n",
      "only showing top 20 rows\n",
      "\n"
     ]
    }
   ],
   "source": [
    "churn.select(\"Geography\",\"geo_index\", \"geo_original\").show(truncate=False)"
   ]
  },
  {
   "cell_type": "code",
   "execution_count": null,
   "id": "447bce19-b193-4bcb-aa7e-9d6c32e6d47b",
   "metadata": {},
   "outputs": [],
   "source": []
  }
 ],
 "metadata": {
  "kernelspec": {
   "display_name": "Python 3 (ipykernel)",
   "language": "python",
   "name": "python3"
  },
  "language_info": {
   "codemirror_mode": {
    "name": "ipython",
    "version": 3
   },
   "file_extension": ".py",
   "mimetype": "text/x-python",
   "name": "python",
   "nbconvert_exporter": "python",
   "pygments_lexer": "ipython3",
   "version": "3.10.6"
  }
 },
 "nbformat": 4,
 "nbformat_minor": 5
}
