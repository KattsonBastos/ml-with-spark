{
 "cells": [
  {
   "cell_type": "markdown",
   "id": "660b5366-707c-4d84-a2e9-179bd3327778",
   "metadata": {
    "tags": []
   },
   "source": [
    "# Imputer: Dealing with Missing Values"
   ]
  },
  {
   "cell_type": "markdown",
   "id": "fd423586-9c12-44f6-9d8f-b420aad6c707",
   "metadata": {},
   "source": [
    "With the Imputer method, we can fill missing value with many imputation strategies: mean, median, mode.\n",
    "\n",
    "But that's not all: we can also change any other value (like zero) by using a specified parameters.\n",
    "\n",
    "Similar to other Spark methods, it only works for numeric values."
   ]
  },
  {
   "cell_type": "markdown",
   "id": "cc39d28e-b648-4e1b-9238-fbc72e5552c7",
   "metadata": {
    "tags": []
   },
   "source": [
    "## Importing"
   ]
  },
  {
   "cell_type": "code",
   "execution_count": 1,
   "id": "4b11e27a-6d04-4762-8811-05a2ccf151e1",
   "metadata": {},
   "outputs": [],
   "source": [
    "import pyspark, findspark\n",
    "from pyspark.sql import SparkSession\n",
    "\n",
    "findspark.init()\n",
    "\n",
    "spark = SparkSession.builder.appName(\"ohe\").getOrCreate()"
   ]
  },
  {
   "cell_type": "code",
   "execution_count": 2,
   "id": "e16d1c09-6d36-4875-b55c-9e9f9a636805",
   "metadata": {},
   "outputs": [],
   "source": [
    "from pyspark.ml.feature import Imputer"
   ]
  },
  {
   "cell_type": "markdown",
   "id": "b14fd40c-92ab-4426-990f-24635bc761a9",
   "metadata": {
    "tags": []
   },
   "source": [
    "## Loading Data"
   ]
  },
  {
   "cell_type": "code",
   "execution_count": 3,
   "id": "01982a9c-677f-4d69-976f-359390bdf0a6",
   "metadata": {},
   "outputs": [
    {
     "name": "stdout",
     "output_type": "stream",
     "text": [
      "+-------+---------+-----------+---------------+----+-----+---------+-----------+-------+-----------+---+\n",
      "|Consumo|Cilindros|Cilindradas|RelEixoTraseiro|Peso|Tempo|TipoMotor|Transmissao|Marchas|Carburadors| HP|\n",
      "+-------+---------+-----------+---------------+----+-----+---------+-----------+-------+-----------+---+\n",
      "|     21|        6|        160|             39| 262| 1646|        0|          1|      4|          4|110|\n",
      "|     21|        6|       null|             39|2875| null|        0|          1|      4|          4|110|\n",
      "+-------+---------+-----------+---------------+----+-----+---------+-----------+-------+-----------+---+\n",
      "only showing top 2 rows\n",
      "\n"
     ]
    }
   ],
   "source": [
    "cars = spark.read.load(\n",
    "    \"../../data/CarrosNAN.csv\",\n",
    "    format=\"csv\",\n",
    "    sep=\";\",\n",
    "    header = True, \n",
    "    inferSchema=True)\n",
    "\n",
    "cars.show(2)"
   ]
  },
  {
   "cell_type": "markdown",
   "id": "eff08a4f-191b-4f28-a258-5ddd4e206c96",
   "metadata": {
    "tags": []
   },
   "source": [
    "## Imputing Missing Values"
   ]
  },
  {
   "cell_type": "markdown",
   "id": "b1a449dc-2470-4afb-b819-d1f20c8a7e27",
   "metadata": {},
   "source": [
    "By default, the imputation strategy is the column mean. To change it, we have to specify the strategy."
   ]
  },
  {
   "cell_type": "markdown",
   "id": "f5c3fa31-c098-4727-8bf9-f8ff9fcbcc7e",
   "metadata": {},
   "source": [
    "### Filling with the mean"
   ]
  },
  {
   "cell_type": "code",
   "execution_count": 4,
   "id": "65ed7840-8384-429f-bf11-dfdd5a71ad8a",
   "metadata": {},
   "outputs": [],
   "source": [
    "imputer = Imputer(\n",
    "    inputCols=[\"Cilindradas\", \"Peso\"],\n",
    "    outputCols=[\"cil_filled_mean\", \"peso_filled_mean\"]\n",
    ")\n",
    "cars = imputer.fit(cars).transform(cars)\n",
    "\n"
   ]
  },
  {
   "cell_type": "code",
   "execution_count": 5,
   "id": "793a0b1b-4a32-43cc-a73b-fa734442220e",
   "metadata": {},
   "outputs": [
    {
     "name": "stdout",
     "output_type": "stream",
     "text": [
      "+-----------+---------------+----+----------------+\n",
      "|Cilindradas|cil_filled_mean|Peso|peso_filled_mean|\n",
      "+-----------+---------------+----+----------------+\n",
      "|        160|            160| 262|             262|\n",
      "|       null|            848|2875|            2875|\n",
      "|        108|            108| 232|             232|\n",
      "|       null|            848|3215|            3215|\n",
      "|        360|            360|null|            1318|\n",
      "+-----------+---------------+----+----------------+\n",
      "only showing top 5 rows\n",
      "\n"
     ]
    }
   ],
   "source": [
    "cars.select(\"Cilindradas\", \"cil_filled_mean\", \"Peso\", \"peso_filled_mean\").show(5)"
   ]
  },
  {
   "cell_type": "markdown",
   "id": "27e65b31-2db6-4ce0-b07e-e1c57dbadd13",
   "metadata": {},
   "source": [
    "### Filling with the median"
   ]
  },
  {
   "cell_type": "markdown",
   "id": "391c6b50-1f8b-4a8e-a8d8-f874f2380561",
   "metadata": {},
   "source": [
    "To a different method, we have to set the `setStrategy` method before the imputation object creation:"
   ]
  },
  {
   "cell_type": "code",
   "execution_count": 6,
   "id": "95c475ff-59d4-4ef7-a24c-7038e7c8ecd4",
   "metadata": {},
   "outputs": [],
   "source": [
    "imputer = Imputer(\n",
    "    inputCols=[\"Cilindradas\", \"Peso\"],\n",
    "    outputCols=[\"cil_filled_median\", \"peso_filled_median\"]\n",
    ")\n",
    "cars = imputer.setStrategy('median').fit(cars).transform(cars)"
   ]
  },
  {
   "cell_type": "code",
   "execution_count": 7,
   "id": "1e9c4ff4-3eef-4546-886a-2e367b1cee2a",
   "metadata": {},
   "outputs": [
    {
     "name": "stdout",
     "output_type": "stream",
     "text": [
      "+-----------+---------------+-----------------+----+----------------+------------------+\n",
      "|Cilindradas|cil_filled_mean|cil_filled_median|Peso|peso_filled_mean|peso_filled_median|\n",
      "+-----------+---------------+-----------------+----+----------------+------------------+\n",
      "|        160|            160|              160| 262|             262|               262|\n",
      "|       null|            848|              440|2875|            2875|              2875|\n",
      "|        108|            108|              108| 232|             232|               232|\n",
      "|       null|            848|              440|3215|            3215|              3215|\n",
      "|        360|            360|              360|null|            1318|               373|\n",
      "+-----------+---------------+-----------------+----+----------------+------------------+\n",
      "only showing top 5 rows\n",
      "\n"
     ]
    }
   ],
   "source": [
    "cars.select(\"Cilindradas\", \"cil_filled_mean\",  \"cil_filled_median\", \"Peso\", \"peso_filled_mean\", \"peso_filled_median\").show(5)"
   ]
  },
  {
   "cell_type": "markdown",
   "id": "8d2b156a-6acc-415a-9b4e-13c41c5aff15",
   "metadata": {},
   "source": [
    "### Imputing a Numeric value"
   ]
  },
  {
   "cell_type": "markdown",
   "id": "5cd7aa88-1035-4cb7-af8d-08f18e7f52a6",
   "metadata": {},
   "source": [
    "Instead of filling missing values, we could need to impute numeric values.\n",
    "\n",
    "In order to do so, we jsut have to set the missing value we want to change by using the method `setMissingValue`:"
   ]
  },
  {
   "cell_type": "code",
   "execution_count": 8,
   "id": "19cba7ae-36c8-40f7-934e-baac3e23e2c2",
   "metadata": {},
   "outputs": [],
   "source": [
    "imputer = Imputer(\n",
    "    inputCols=[\"Cilindros\"],\n",
    "    outputCols=[\"cilindros_zero_median\"]\n",
    ")\n",
    "cars = imputer.setStrategy('median').setMissingValue(0).fit(cars).transform(cars)"
   ]
  },
  {
   "cell_type": "code",
   "execution_count": 10,
   "id": "0f919c68-e4fc-4f6b-9343-f71a6a6c1453",
   "metadata": {},
   "outputs": [
    {
     "name": "stdout",
     "output_type": "stream",
     "text": [
      "+---------+---------------------+\n",
      "|Cilindros|cilindros_zero_median|\n",
      "+---------+---------------------+\n",
      "|        6|                    6|\n",
      "|        6|                    6|\n",
      "|        0|                    6|\n",
      "|        0|                    6|\n",
      "|        0|                    6|\n",
      "|        6|                    6|\n",
      "|        8|                    8|\n",
      "|        4|                    4|\n",
      "|        4|                    4|\n",
      "|        0|                    6|\n",
      "+---------+---------------------+\n",
      "only showing top 10 rows\n",
      "\n"
     ]
    }
   ],
   "source": [
    "cars.select(\"Cilindros\", \"cilindros_zero_median\").show(10)"
   ]
  },
  {
   "cell_type": "code",
   "execution_count": null,
   "id": "0ba3136e-0002-4099-b808-e2dc22349f55",
   "metadata": {},
   "outputs": [],
   "source": []
  }
 ],
 "metadata": {
  "kernelspec": {
   "display_name": "Python 3 (ipykernel)",
   "language": "python",
   "name": "python3"
  },
  "language_info": {
   "codemirror_mode": {
    "name": "ipython",
    "version": 3
   },
   "file_extension": ".py",
   "mimetype": "text/x-python",
   "name": "python",
   "nbconvert_exporter": "python",
   "pygments_lexer": "ipython3",
   "version": "3.10.6"
  }
 },
 "nbformat": 4,
 "nbformat_minor": 5
}
