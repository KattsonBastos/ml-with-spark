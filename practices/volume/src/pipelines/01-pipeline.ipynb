{
 "cells": [
  {
   "cell_type": "markdown",
   "id": "660b5366-707c-4d84-a2e9-179bd3327778",
   "metadata": {
    "tags": []
   },
   "source": [
    "# PySpark Pipelines"
   ]
  },
  {
   "cell_type": "markdown",
   "id": "0f825ebf-d101-4536-b7b1-232750cc0646",
   "metadata": {},
   "source": [
    "With `pipeline`, we first instantiate the objects and the pipeline method applies the transformations."
   ]
  },
  {
   "cell_type": "markdown",
   "id": "cc39d28e-b648-4e1b-9238-fbc72e5552c7",
   "metadata": {
    "tags": []
   },
   "source": [
    "## Importing"
   ]
  },
  {
   "cell_type": "code",
   "execution_count": 1,
   "id": "4b11e27a-6d04-4762-8811-05a2ccf151e1",
   "metadata": {},
   "outputs": [],
   "source": [
    "import pyspark, findspark\n",
    "from pyspark.sql import SparkSession\n",
    "\n",
    "findspark.init()\n",
    "\n",
    "spark = SparkSession.builder.appName(\"pipeline\").getOrCreate()"
   ]
  },
  {
   "cell_type": "code",
   "execution_count": 2,
   "id": "e16d1c09-6d36-4875-b55c-9e9f9a636805",
   "metadata": {},
   "outputs": [],
   "source": [
    "from pyspark.ml.feature    import RFormula, VectorAssembler, StringIndexer\n",
    "from pyspark.ml.evaluation import MulticlassClassificationEvaluator\n",
    "from pyspark.ml.classification import MultilayerPerceptronClassifier\n",
    "from pyspark.ml import Pipeline"
   ]
  },
  {
   "cell_type": "markdown",
   "id": "b14fd40c-92ab-4426-990f-24635bc761a9",
   "metadata": {
    "tags": []
   },
   "source": [
    "## Loading Data"
   ]
  },
  {
   "cell_type": "code",
   "execution_count": 3,
   "id": "01982a9c-677f-4d69-976f-359390bdf0a6",
   "metadata": {},
   "outputs": [],
   "source": [
    "data = spark.read.load(\n",
    "    \"../../data/iris.csv\",\n",
    "    format=\"csv\",\n",
    "    sep=\",\",\n",
    "    header = True, \n",
    "    inferSchema=True)\n",
    "\n",
    "dataTrain, dataTest = data.randomSplit([.7, .3], seed=11)"
   ]
  },
  {
   "cell_type": "markdown",
   "id": "0d5f4eb8-bf5e-48e0-978a-ff1bb680cfc6",
   "metadata": {},
   "source": [
    "## Preparing Data"
   ]
  },
  {
   "cell_type": "markdown",
   "id": "f6f63b4c-7945-4b5c-bc2e-82d5b273436c",
   "metadata": {},
   "source": [
    "Taking our features columns into a vector column"
   ]
  },
  {
   "cell_type": "code",
   "execution_count": 4,
   "id": "465ff146-f90a-41ad-9ad1-2330c4a5ca32",
   "metadata": {},
   "outputs": [],
   "source": [
    "asb = VectorAssembler(\n",
    "    inputCols=[\"sepallength\",\"sepalwidth\",\"petallength\",\"petalwidth\"],\n",
    "    outputCol=\"features\"\n",
    ")"
   ]
  },
  {
   "cell_type": "code",
   "execution_count": 5,
   "id": "e67fb7ef-47df-4e29-809a-a44b917ed80d",
   "metadata": {},
   "outputs": [],
   "source": [
    "ind = StringIndexer(\n",
    "    inputCol=\"class\",\n",
    "    outputCol=\"target\"\n",
    ")"
   ]
  },
  {
   "cell_type": "markdown",
   "id": "3470fa4f-348d-42b2-99de-f1c9e139b01b",
   "metadata": {},
   "source": [
    "## Model Development"
   ]
  },
  {
   "cell_type": "code",
   "execution_count": 6,
   "id": "3bd20b81-adba-4344-a06d-af65b47d2705",
   "metadata": {},
   "outputs": [],
   "source": [
    "clf = MultilayerPerceptronClassifier(\n",
    "    featuresCol=\"features\",\n",
    "    labelCol=\"target\",\n",
    "    maxIter=1000,\n",
    "    layers=[4,5,4,3]\n",
    ")"
   ]
  },
  {
   "cell_type": "markdown",
   "id": "65f268a3-61c3-40f5-9b3e-2158a395b783",
   "metadata": {},
   "source": [
    "## Running the Pipeline"
   ]
  },
  {
   "cell_type": "code",
   "execution_count": 7,
   "id": "e858f732-9834-4f22-a9bb-532021b2f095",
   "metadata": {},
   "outputs": [],
   "source": [
    "pipeline = Pipeline(\n",
    "    stages=[asb, ind, clf]\n",
    ")\n",
    "\n",
    "model = pipeline.fit(dataTrain)"
   ]
  },
  {
   "cell_type": "markdown",
   "id": "48edc68d-21dc-4f0e-abcd-acb87542a771",
   "metadata": {
    "tags": []
   },
   "source": [
    "## Predicting on Test Set"
   ]
  },
  {
   "cell_type": "code",
   "execution_count": 8,
   "id": "56159abe-9f7c-4750-bc62-12a1eaddf604",
   "metadata": {},
   "outputs": [
    {
     "name": "stdout",
     "output_type": "stream",
     "text": [
      "+-----------------+-----------+----------------------------------------------------+\n",
      "|features         |class      |probability                                         |\n",
      "+-----------------+-----------+----------------------------------------------------+\n",
      "|[4.6,3.1,1.5,0.2]|Iris-setosa|[5.6229320802346665E-136,9.185091099379931E-188,1.0]|\n",
      "|[4.6,3.2,1.4,0.2]|Iris-setosa|[5.6229320802346665E-136,9.185091099379931E-188,1.0]|\n",
      "|[4.8,3.0,1.4,0.1]|Iris-setosa|[5.6229320802346665E-136,9.185091099379931E-188,1.0]|\n",
      "|[4.8,3.0,1.4,0.3]|Iris-setosa|[5.6229320802346665E-136,9.185091099379931E-188,1.0]|\n",
      "|[4.8,3.1,1.6,0.2]|Iris-setosa|[5.6229320802346665E-136,9.185091099379931E-188,1.0]|\n",
      "+-----------------+-----------+----------------------------------------------------+\n",
      "only showing top 5 rows\n",
      "\n"
     ]
    }
   ],
   "source": [
    "prediction = model.transform(dataTest)\n",
    "prediction.select(\"features\", \"class\", \"probability\").show(5, truncate=False)"
   ]
  },
  {
   "cell_type": "markdown",
   "id": "8e7f5c63-ef6b-40c2-9ca1-5b9b4d41d3cc",
   "metadata": {},
   "source": [
    "## Model Evaluation"
   ]
  },
  {
   "cell_type": "code",
   "execution_count": 9,
   "id": "f8f59de5-aa0b-4339-895c-988050f3f0da",
   "metadata": {},
   "outputs": [],
   "source": [
    "performance = MulticlassClassificationEvaluator(\n",
    "    labelCol=\"target\",\n",
    "    predictionCol=\"prediction\",\n",
    "    metricName=\"accuracy\"\n",
    ")\n",
    "\n",
    "acc = performance.evaluate(prediction)"
   ]
  },
  {
   "cell_type": "code",
   "execution_count": 10,
   "id": "29a87f54-73ab-4842-82cf-8af07952a60c",
   "metadata": {},
   "outputs": [
    {
     "name": "stdout",
     "output_type": "stream",
     "text": [
      "1.0\n"
     ]
    }
   ],
   "source": [
    "print(acc)"
   ]
  },
  {
   "cell_type": "code",
   "execution_count": null,
   "id": "6b2ddd32-3a91-4819-95b2-9626801dc37f",
   "metadata": {},
   "outputs": [],
   "source": []
  }
 ],
 "metadata": {
  "kernelspec": {
   "display_name": "Python 3 (ipykernel)",
   "language": "python",
   "name": "python3"
  },
  "language_info": {
   "codemirror_mode": {
    "name": "ipython",
    "version": 3
   },
   "file_extension": ".py",
   "mimetype": "text/x-python",
   "name": "python",
   "nbconvert_exporter": "python",
   "pygments_lexer": "ipython3",
   "version": "3.10.6"
  }
 },
 "nbformat": 4,
 "nbformat_minor": 5
}
