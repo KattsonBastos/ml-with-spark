{
 "cells": [
  {
   "cell_type": "markdown",
   "metadata": {
    "application/vnd.databricks.v1+cell": {
     "inputWidgets": {},
     "nuid": "63cd12c4-682d-4c61-a8e2-a611a1088aa4",
     "showTitle": false,
     "title": ""
    }
   },
   "source": [
    "## Importing"
   ]
  },
  {
   "cell_type": "code",
   "execution_count": null,
   "metadata": {
    "application/vnd.databricks.v1+cell": {
     "inputWidgets": {},
     "nuid": "6e587c74-a276-407f-9786-2a36d026d6d2",
     "showTitle": false,
     "title": ""
    }
   },
   "outputs": [],
   "source": [
    "import pyspark\n",
    "\n",
    "from pyspark.sql import SparkSession\n",
    "\n",
    "from pyspark.sql.functions import col, countDistinct\n",
    "\n",
    "spark = SparkSession.builder.appName(\"imputer\").getOrCreate()"
   ]
  },
  {
   "cell_type": "markdown",
   "metadata": {
    "application/vnd.databricks.v1+cell": {
     "inputWidgets": {},
     "nuid": "ac73ca96-8d82-4dcd-883a-649499ba786e",
     "showTitle": false,
     "title": ""
    }
   },
   "source": [
    "## Loading Data"
   ]
  },
  {
   "cell_type": "code",
   "execution_count": null,
   "metadata": {
    "application/vnd.databricks.v1+cell": {
     "inputWidgets": {},
     "nuid": "b8a0121c-0d9c-49fd-b0ca-fd7e4dfff759",
     "showTitle": false,
     "title": ""
    }
   },
   "outputs": [],
   "source": [
    "raw_df = spark\\\n",
    ".read\\\n",
    ".load(\n",
    "    \"/FileStore/tables/gc_stats.csv\", \n",
    "    header=True, \n",
    "    format = \"csv\", \n",
    "    sep = ',', \n",
    "    inferSchema=True)"
   ]
  },
  {
   "cell_type": "markdown",
   "metadata": {
    "application/vnd.databricks.v1+cell": {
     "inputWidgets": {},
     "nuid": "9bdbc327-acee-4cf5-b203-8b858b035655",
     "showTitle": false,
     "title": ""
    }
   },
   "source": [
    "## Dataset Description"
   ]
  },
  {
   "cell_type": "markdown",
   "metadata": {
    "application/vnd.databricks.v1+cell": {
     "inputWidgets": {},
     "nuid": "6f581923-3fc0-4a2f-9b4f-3d73d01d0431",
     "showTitle": false,
     "title": ""
    }
   },
   "source": [
    "#### Taking a Look at the first rows"
   ]
  },
  {
   "cell_type": "code",
   "execution_count": null,
   "metadata": {
    "application/vnd.databricks.v1+cell": {
     "inputWidgets": {},
     "nuid": "6a9a63a3-a0b3-4aca-b713-1a323ecfde6f",
     "showTitle": false,
     "title": ""
    }
   },
   "outputs": [
    {
     "data": {
      "text/html": [
       "<style scoped>\n",
       "  .table-result-container {\n",
       "    max-height: 300px;\n",
       "    overflow: auto;\n",
       "  }\n",
       "  table, th, td {\n",
       "    border: 1px solid black;\n",
       "    border-collapse: collapse;\n",
       "  }\n",
       "  th, td {\n",
       "    padding: 5px;\n",
       "  }\n",
       "  th {\n",
       "    text-align: left;\n",
       "  }\n",
       "</style><div class='table-result-container'><table class='table-result'><thead style='background-color: white'><tr><th>idLobbyGame</th><th>idPlayer</th><th>idRoom</th><th>qtKill</th><th>qtAssist</th><th>qtDeath</th><th>qtHs</th><th>qtBombeDefuse</th><th>qtBombePlant</th><th>qtTk</th><th>qtTkAssist</th><th>qt1Kill</th><th>qt2Kill</th><th>qt3Kill</th><th>qt4Kill</th><th>qt5Kill</th><th>qtPlusKill</th><th>qtFirstKill</th><th>vlDamage</th><th>qtHits</th><th>qtShots</th><th>qtLastAlive</th><th>qtClutchWon</th><th>qtRoundsPlayed</th><th>descMapName</th><th>vlLevel</th><th>qtSurvived</th><th>qtTrade</th><th>qtFlashAssist</th><th>qtHitHeadshot</th><th>qtHitChest</th><th>qtHitStomach</th><th>qtHitLeftAtm</th><th>qtHitRightArm</th><th>qtHitLeftLeg</th><th>qtHitRightLeg</th><th>flWinner</th><th>dtCreatedAt</th></tr></thead><tbody><tr><td>1</td><td>1</td><td>1</td><td>5</td><td>1</td><td>16</td><td>2</td><td>0</td><td>0</td><td>0.0</td><td>0.0</td><td>3</td><td>1</td><td>0</td><td>0</td><td>0</td><td>0</td><td>1</td><td>911</td><td>25.0</td><td>212</td><td>0.0</td><td>0</td><td>17</td><td>de_mirage</td><td>10</td><td>1.0</td><td>2.0</td><td>0.0</td><td>3.0</td><td>13.0</td><td>4.0</td><td>2.0</td><td>2.0</td><td>1.0</td><td>0.0</td><td>0</td><td>2022-01-21T19:45:44.000+0000</td></tr><tr><td>2</td><td>1</td><td>2</td><td>24</td><td>3</td><td>18</td><td>6</td><td>0</td><td>4</td><td>0.0</td><td>1.0</td><td>9</td><td>4</td><td>1</td><td>1</td><td>0</td><td>0</td><td>3</td><td>2933</td><td>54.0</td><td>597</td><td>1.0</td><td>1</td><td>27</td><td>de_nuke</td><td>9</td><td>8.0</td><td>1.0</td><td>0.0</td><td>7.0</td><td>26.0</td><td>14.0</td><td>2.0</td><td>1.0</td><td>1.0</td><td>3.0</td><td>1</td><td>2022-02-04T02:09:47.000+0000</td></tr><tr><td>3</td><td>2</td><td>3</td><td>6</td><td>4</td><td>23</td><td>2</td><td>0</td><td>1</td><td>0.0</td><td>1.0</td><td>4</td><td>1</td><td>0</td><td>0</td><td>0</td><td>0</td><td>2</td><td>1117</td><td>31.0</td><td>207</td><td>0.0</td><td>0</td><td>25</td><td>de_mirage</td><td>2</td><td>2.0</td><td>3.0</td><td>0.0</td><td>3.0</td><td>15.0</td><td>8.0</td><td>1.0</td><td>2.0</td><td>0.0</td><td>2.0</td><td>0</td><td>2021-09-18T18:07:43.000+0000</td></tr><tr><td>3</td><td>391</td><td>27508</td><td>10</td><td>5</td><td>20</td><td>4</td><td>1</td><td>0</td><td>0.0</td><td>0.0</td><td>6</td><td>2</td><td>0</td><td>0</td><td>0</td><td>0</td><td>1</td><td>1740</td><td>63.0</td><td>411</td><td>1.0</td><td>1</td><td>25</td><td>de_mirage</td><td>15</td><td>3.0</td><td>4.0</td><td>0.0</td><td>6.0</td><td>27.0</td><td>10.0</td><td>1.0</td><td>7.0</td><td>6.0</td><td>6.0</td><td>1</td><td>2021-09-18T18:07:43.000+0000</td></tr><tr><td>4</td><td>2</td><td>4</td><td>8</td><td>4</td><td>26</td><td>6</td><td>0</td><td>2</td><td>0.0</td><td>0.0</td><td>4</td><td>2</td><td>0</td><td>0</td><td>0</td><td>0</td><td>1</td><td>1696</td><td>51.0</td><td>324</td><td>0.0</td><td>0</td><td>30</td><td>de_nuke</td><td>2</td><td>4.0</td><td>4.0</td><td>2.0</td><td>8.0</td><td>19.0</td><td>12.0</td><td>2.0</td><td>3.0</td><td>2.0</td><td>5.0</td><td>0</td><td>2021-09-27T00:17:45.000+0000</td></tr></tbody></table></div>"
      ]
     },
     "metadata": {
      "application/vnd.databricks.v1+output": {
       "addedWidgets": {},
       "aggData": [],
       "aggError": "",
       "aggOverflow": false,
       "aggSchema": [],
       "aggSeriesLimitReached": false,
       "aggType": "",
       "arguments": {},
       "columnCustomDisplayInfos": {},
       "data": [
        [
         1,
         1,
         1,
         5,
         1,
         16,
         2,
         0,
         0,
         0,
         0,
         3,
         1,
         0,
         0,
         0,
         0,
         1,
         911,
         25,
         212,
         0,
         0,
         17,
         "de_mirage",
         10,
         1,
         2,
         0,
         3,
         13,
         4,
         2,
         2,
         1,
         0,
         0,
         "2022-01-21T19:45:44.000+0000"
        ],
        [
         2,
         1,
         2,
         24,
         3,
         18,
         6,
         0,
         4,
         0,
         1,
         9,
         4,
         1,
         1,
         0,
         0,
         3,
         2933,
         54,
         597,
         1,
         1,
         27,
         "de_nuke",
         9,
         8,
         1,
         0,
         7,
         26,
         14,
         2,
         1,
         1,
         3,
         1,
         "2022-02-04T02:09:47.000+0000"
        ],
        [
         3,
         2,
         3,
         6,
         4,
         23,
         2,
         0,
         1,
         0,
         1,
         4,
         1,
         0,
         0,
         0,
         0,
         2,
         1117,
         31,
         207,
         0,
         0,
         25,
         "de_mirage",
         2,
         2,
         3,
         0,
         3,
         15,
         8,
         1,
         2,
         0,
         2,
         0,
         "2021-09-18T18:07:43.000+0000"
        ],
        [
         3,
         391,
         27508,
         10,
         5,
         20,
         4,
         1,
         0,
         0,
         0,
         6,
         2,
         0,
         0,
         0,
         0,
         1,
         1740,
         63,
         411,
         1,
         1,
         25,
         "de_mirage",
         15,
         3,
         4,
         0,
         6,
         27,
         10,
         1,
         7,
         6,
         6,
         1,
         "2021-09-18T18:07:43.000+0000"
        ],
        [
         4,
         2,
         4,
         8,
         4,
         26,
         6,
         0,
         2,
         0,
         0,
         4,
         2,
         0,
         0,
         0,
         0,
         1,
         1696,
         51,
         324,
         0,
         0,
         30,
         "de_nuke",
         2,
         4,
         4,
         2,
         8,
         19,
         12,
         2,
         3,
         2,
         5,
         0,
         "2021-09-27T00:17:45.000+0000"
        ]
       ],
       "datasetInfos": [],
       "dbfsResultPath": null,
       "isJsonSchema": true,
       "metadata": {},
       "overflow": false,
       "plotOptions": {
        "customPlotOptions": {},
        "displayType": "table",
        "pivotAggregation": null,
        "pivotColumns": null,
        "xColumns": null,
        "yColumns": null
       },
       "removedWidgets": [],
       "schema": [
        {
         "metadata": "{}",
         "name": "idLobbyGame",
         "type": "\"long\""
        },
        {
         "metadata": "{}",
         "name": "idPlayer",
         "type": "\"long\""
        },
        {
         "metadata": "{}",
         "name": "idRoom",
         "type": "\"long\""
        },
        {
         "metadata": "{}",
         "name": "qtKill",
         "type": "\"long\""
        },
        {
         "metadata": "{}",
         "name": "qtAssist",
         "type": "\"long\""
        },
        {
         "metadata": "{}",
         "name": "qtDeath",
         "type": "\"long\""
        },
        {
         "metadata": "{}",
         "name": "qtHs",
         "type": "\"long\""
        },
        {
         "metadata": "{}",
         "name": "qtBombeDefuse",
         "type": "\"long\""
        },
        {
         "metadata": "{}",
         "name": "qtBombePlant",
         "type": "\"long\""
        },
        {
         "metadata": "{}",
         "name": "qtTk",
         "type": "\"double\""
        },
        {
         "metadata": "{}",
         "name": "qtTkAssist",
         "type": "\"double\""
        },
        {
         "metadata": "{}",
         "name": "qt1Kill",
         "type": "\"long\""
        },
        {
         "metadata": "{}",
         "name": "qt2Kill",
         "type": "\"long\""
        },
        {
         "metadata": "{}",
         "name": "qt3Kill",
         "type": "\"long\""
        },
        {
         "metadata": "{}",
         "name": "qt4Kill",
         "type": "\"long\""
        },
        {
         "metadata": "{}",
         "name": "qt5Kill",
         "type": "\"long\""
        },
        {
         "metadata": "{}",
         "name": "qtPlusKill",
         "type": "\"long\""
        },
        {
         "metadata": "{}",
         "name": "qtFirstKill",
         "type": "\"long\""
        },
        {
         "metadata": "{}",
         "name": "vlDamage",
         "type": "\"long\""
        },
        {
         "metadata": "{}",
         "name": "qtHits",
         "type": "\"double\""
        },
        {
         "metadata": "{}",
         "name": "qtShots",
         "type": "\"long\""
        },
        {
         "metadata": "{}",
         "name": "qtLastAlive",
         "type": "\"double\""
        },
        {
         "metadata": "{}",
         "name": "qtClutchWon",
         "type": "\"long\""
        },
        {
         "metadata": "{}",
         "name": "qtRoundsPlayed",
         "type": "\"long\""
        },
        {
         "metadata": "{}",
         "name": "descMapName",
         "type": "\"string\""
        },
        {
         "metadata": "{}",
         "name": "vlLevel",
         "type": "\"long\""
        },
        {
         "metadata": "{}",
         "name": "qtSurvived",
         "type": "\"double\""
        },
        {
         "metadata": "{}",
         "name": "qtTrade",
         "type": "\"double\""
        },
        {
         "metadata": "{}",
         "name": "qtFlashAssist",
         "type": "\"double\""
        },
        {
         "metadata": "{}",
         "name": "qtHitHeadshot",
         "type": "\"double\""
        },
        {
         "metadata": "{}",
         "name": "qtHitChest",
         "type": "\"double\""
        },
        {
         "metadata": "{}",
         "name": "qtHitStomach",
         "type": "\"double\""
        },
        {
         "metadata": "{}",
         "name": "qtHitLeftAtm",
         "type": "\"double\""
        },
        {
         "metadata": "{}",
         "name": "qtHitRightArm",
         "type": "\"double\""
        },
        {
         "metadata": "{}",
         "name": "qtHitLeftLeg",
         "type": "\"double\""
        },
        {
         "metadata": "{}",
         "name": "qtHitRightLeg",
         "type": "\"double\""
        },
        {
         "metadata": "{}",
         "name": "flWinner",
         "type": "\"long\""
        },
        {
         "metadata": "{}",
         "name": "dtCreatedAt",
         "type": "\"timestamp\""
        }
       ],
       "type": "table"
      }
     },
     "output_type": "display_data"
    }
   ],
   "source": [
    "display(raw_df.head(5))"
   ]
  },
  {
   "cell_type": "code",
   "execution_count": null,
   "metadata": {
    "application/vnd.databricks.v1+cell": {
     "inputWidgets": {},
     "nuid": "1d4c7418-5a59-4daf-b7dc-d605da156bf9",
     "showTitle": false,
     "title": ""
    }
   },
   "outputs": [
    {
     "data": {
      "text/plain": [
       "Dataset cols: \n",
       "idLobbyGame, idPlayer, idRoom, qtKill, qtAssist, qtDeath, qtHs, qtBombeDefuse, qtBombePlant, qtTk, qtTkAssist, qt1Kill, qt2Kill, qt3Kill, qt4Kill, qt5Kill, qtPlusKill, qtFirstKill, vlDamage, qtHits, qtShots, qtLastAlive, qtClutchWon, qtRoundsPlayed, descMapName, vlLevel, qtSurvived, qtTrade, qtFlashAssist, qtHitHeadshot, qtHitChest, qtHitStomach, qtHitLeftAtm, qtHitRightArm, qtHitLeftLeg, qtHitRightLeg, flWinner, dtCreatedAt\n"
      ]
     },
     "metadata": {
      "application/vnd.databricks.v1+output": {
       "addedWidgets": {},
       "arguments": {},
       "data": "Dataset cols: \nidLobbyGame, idPlayer, idRoom, qtKill, qtAssist, qtDeath, qtHs, qtBombeDefuse, qtBombePlant, qtTk, qtTkAssist, qt1Kill, qt2Kill, qt3Kill, qt4Kill, qt5Kill, qtPlusKill, qtFirstKill, vlDamage, qtHits, qtShots, qtLastAlive, qtClutchWon, qtRoundsPlayed, descMapName, vlLevel, qtSurvived, qtTrade, qtFlashAssist, qtHitHeadshot, qtHitChest, qtHitStomach, qtHitLeftAtm, qtHitRightArm, qtHitLeftLeg, qtHitRightLeg, flWinner, dtCreatedAt\n",
       "datasetInfos": [],
       "metadata": {},
       "removedWidgets": [],
       "type": "ansi"
      }
     },
     "output_type": "display_data"
    }
   ],
   "source": [
    "print('Dataset cols: \\n' + ', '.join([col for col in raw_df.schema.names]))"
   ]
  },
  {
   "cell_type": "markdown",
   "metadata": {
    "application/vnd.databricks.v1+cell": {
     "inputWidgets": {},
     "nuid": "c0d415aa-ff7b-4184-bda3-c07005417f81",
     "showTitle": false,
     "title": ""
    }
   },
   "source": [
    "#### Getting the dataset shape"
   ]
  },
  {
   "cell_type": "code",
   "execution_count": null,
   "metadata": {
    "application/vnd.databricks.v1+cell": {
     "inputWidgets": {},
     "nuid": "7011470c-84fe-4d0d-8ed0-edc99f0b000f",
     "showTitle": false,
     "title": ""
    }
   },
   "outputs": [
    {
     "data": {
      "text/plain": [
       "Number of rows: 184152\n",
       "Number of columns: 38\n"
      ]
     },
     "metadata": {
      "application/vnd.databricks.v1+output": {
       "addedWidgets": {},
       "arguments": {},
       "data": "Number of rows: 184152\nNumber of columns: 38\n",
       "datasetInfos": [],
       "metadata": {},
       "removedWidgets": [],
       "type": "ansi"
      }
     },
     "output_type": "display_data"
    }
   ],
   "source": [
    "print(f\"Number of rows: {raw_df.count()}\")\n",
    "print(f\"Number of columns: {len(raw_df.columns)}\")"
   ]
  },
  {
   "cell_type": "markdown",
   "metadata": {
    "application/vnd.databricks.v1+cell": {
     "inputWidgets": {},
     "nuid": "856ec8e3-fee6-4e57-9e5f-add5a434838a",
     "showTitle": false,
     "title": ""
    }
   },
   "source": [
    "#### Getting column's schemas"
   ]
  },
  {
   "cell_type": "markdown",
   "metadata": {
    "application/vnd.databricks.v1+cell": {
     "inputWidgets": {},
     "nuid": "45226bad-4e55-4085-a7df-f58efd31c322",
     "showTitle": false,
     "title": ""
    }
   },
   "source": [
    "It'll be needed gurther investigation to check the data type consistency of each column"
   ]
  },
  {
   "cell_type": "code",
   "execution_count": null,
   "metadata": {
    "application/vnd.databricks.v1+cell": {
     "inputWidgets": {},
     "nuid": "49156c9a-f8cf-4ed5-b4d6-bbd47aa770a1",
     "showTitle": false,
     "title": ""
    }
   },
   "outputs": [
    {
     "data": {
      "text/plain": [
       "root\n",
       " |-- idLobbyGame: integer (nullable = true)\n",
       " |-- idPlayer: integer (nullable = true)\n",
       " |-- idRoom: integer (nullable = true)\n",
       " |-- qtKill: integer (nullable = true)\n",
       " |-- qtAssist: integer (nullable = true)\n",
       " |-- qtDeath: integer (nullable = true)\n",
       " |-- qtHs: integer (nullable = true)\n",
       " |-- qtBombeDefuse: integer (nullable = true)\n",
       " |-- qtBombePlant: integer (nullable = true)\n",
       " |-- qtTk: double (nullable = true)\n",
       " |-- qtTkAssist: double (nullable = true)\n",
       " |-- qt1Kill: integer (nullable = true)\n",
       " |-- qt2Kill: integer (nullable = true)\n",
       " |-- qt3Kill: integer (nullable = true)\n",
       " |-- qt4Kill: integer (nullable = true)\n",
       " |-- qt5Kill: integer (nullable = true)\n",
       " |-- qtPlusKill: integer (nullable = true)\n",
       " |-- qtFirstKill: integer (nullable = true)\n",
       " |-- vlDamage: integer (nullable = true)\n",
       " |-- qtHits: double (nullable = true)\n",
       " |-- qtShots: integer (nullable = true)\n",
       " |-- qtLastAlive: double (nullable = true)\n",
       " |-- qtClutchWon: integer (nullable = true)\n",
       " |-- qtRoundsPlayed: integer (nullable = true)\n",
       " |-- descMapName: string (nullable = true)\n",
       " |-- vlLevel: integer (nullable = true)\n",
       " |-- qtSurvived: double (nullable = true)\n",
       " |-- qtTrade: double (nullable = true)\n",
       " |-- qtFlashAssist: double (nullable = true)\n",
       " |-- qtHitHeadshot: double (nullable = true)\n",
       " |-- qtHitChest: double (nullable = true)\n",
       " |-- qtHitStomach: double (nullable = true)\n",
       " |-- qtHitLeftAtm: double (nullable = true)\n",
       " |-- qtHitRightArm: double (nullable = true)\n",
       " |-- qtHitLeftLeg: double (nullable = true)\n",
       " |-- qtHitRightLeg: double (nullable = true)\n",
       " |-- flWinner: integer (nullable = true)\n",
       " |-- dtCreatedAt: timestamp (nullable = true)\n",
       "\n"
      ]
     },
     "metadata": {
      "application/vnd.databricks.v1+output": {
       "addedWidgets": {},
       "arguments": {},
       "data": "root\n |-- idLobbyGame: integer (nullable = true)\n |-- idPlayer: integer (nullable = true)\n |-- idRoom: integer (nullable = true)\n |-- qtKill: integer (nullable = true)\n |-- qtAssist: integer (nullable = true)\n |-- qtDeath: integer (nullable = true)\n |-- qtHs: integer (nullable = true)\n |-- qtBombeDefuse: integer (nullable = true)\n |-- qtBombePlant: integer (nullable = true)\n |-- qtTk: double (nullable = true)\n |-- qtTkAssist: double (nullable = true)\n |-- qt1Kill: integer (nullable = true)\n |-- qt2Kill: integer (nullable = true)\n |-- qt3Kill: integer (nullable = true)\n |-- qt4Kill: integer (nullable = true)\n |-- qt5Kill: integer (nullable = true)\n |-- qtPlusKill: integer (nullable = true)\n |-- qtFirstKill: integer (nullable = true)\n |-- vlDamage: integer (nullable = true)\n |-- qtHits: double (nullable = true)\n |-- qtShots: integer (nullable = true)\n |-- qtLastAlive: double (nullable = true)\n |-- qtClutchWon: integer (nullable = true)\n |-- qtRoundsPlayed: integer (nullable = true)\n |-- descMapName: string (nullable = true)\n |-- vlLevel: integer (nullable = true)\n |-- qtSurvived: double (nullable = true)\n |-- qtTrade: double (nullable = true)\n |-- qtFlashAssist: double (nullable = true)\n |-- qtHitHeadshot: double (nullable = true)\n |-- qtHitChest: double (nullable = true)\n |-- qtHitStomach: double (nullable = true)\n |-- qtHitLeftAtm: double (nullable = true)\n |-- qtHitRightArm: double (nullable = true)\n |-- qtHitLeftLeg: double (nullable = true)\n |-- qtHitRightLeg: double (nullable = true)\n |-- flWinner: integer (nullable = true)\n |-- dtCreatedAt: timestamp (nullable = true)\n\n",
       "datasetInfos": [],
       "metadata": {},
       "removedWidgets": [],
       "type": "ansi"
      }
     },
     "output_type": "display_data"
    }
   ],
   "source": [
    "raw_df.printSchema()"
   ]
  },
  {
   "cell_type": "markdown",
   "metadata": {
    "application/vnd.databricks.v1+cell": {
     "inputWidgets": {},
     "nuid": "fea2f366-baeb-45fe-be4c-11071352afb3",
     "showTitle": false,
     "title": ""
    }
   },
   "source": [
    "#### Counting the number of distinct games"
   ]
  },
  {
   "cell_type": "code",
   "execution_count": null,
   "metadata": {
    "application/vnd.databricks.v1+cell": {
     "inputWidgets": {},
     "nuid": "967e7bd4-d5d1-4476-8420-e3517b12b723",
     "showTitle": false,
     "title": ""
    }
   },
   "outputs": [
    {
     "data": {
      "text/plain": [
       "+---------------------------+\n",
       "|count(DISTINCT idLobbyGame)|\n",
       "+---------------------------+\n",
       "|                     172911|\n",
       "+---------------------------+\n",
       "\n"
      ]
     },
     "metadata": {
      "application/vnd.databricks.v1+output": {
       "addedWidgets": {},
       "arguments": {},
       "data": "+---------------------------+\n|count(DISTINCT idLobbyGame)|\n+---------------------------+\n|                     172911|\n+---------------------------+\n\n",
       "datasetInfos": [],
       "metadata": {},
       "removedWidgets": [],
       "type": "ansi"
      }
     },
     "output_type": "display_data"
    }
   ],
   "source": [
    "raw_df.select(\n",
    "    countDistinct(\"idLobbyGame\")\n",
    ").show()"
   ]
  },
  {
   "cell_type": "markdown",
   "metadata": {
    "application/vnd.databricks.v1+cell": {
     "inputWidgets": {},
     "nuid": "a8901c46-27c0-4aa0-99ad-b1ac56bf33b2",
     "showTitle": false,
     "title": ""
    }
   },
   "source": [
    "#### Counting the number of unique players"
   ]
  },
  {
   "cell_type": "code",
   "execution_count": null,
   "metadata": {
    "application/vnd.databricks.v1+cell": {
     "inputWidgets": {},
     "nuid": "891c06cd-8f11-4c52-996d-3fd26879a305",
     "showTitle": false,
     "title": ""
    }
   },
   "outputs": [
    {
     "data": {
      "text/plain": [
       "+------------------------+\n",
       "|count(DISTINCT idPlayer)|\n",
       "+------------------------+\n",
       "|                    2469|\n",
       "+------------------------+\n",
       "\n"
      ]
     },
     "metadata": {
      "application/vnd.databricks.v1+output": {
       "addedWidgets": {},
       "arguments": {},
       "data": "+------------------------+\n|count(DISTINCT idPlayer)|\n+------------------------+\n|                    2469|\n+------------------------+\n\n",
       "datasetInfos": [],
       "metadata": {},
       "removedWidgets": [],
       "type": "ansi"
      }
     },
     "output_type": "display_data"
    }
   ],
   "source": [
    "raw_df.select(\n",
    "    countDistinct(\"idPlayer\")\n",
    ").show()"
   ]
  },
  {
   "cell_type": "markdown",
   "metadata": {
    "application/vnd.databricks.v1+cell": {
     "inputWidgets": {},
     "nuid": "7feb0b70-605d-45b9-a9be-83ea31349b46",
     "showTitle": false,
     "title": ""
    }
   },
   "source": [
    "#### Selecting the top 10 players with more games"
   ]
  },
  {
   "cell_type": "code",
   "execution_count": null,
   "metadata": {
    "application/vnd.databricks.v1+cell": {
     "inputWidgets": {},
     "nuid": "cb80a029-2635-4724-9dbc-561b1fe356b1",
     "showTitle": false,
     "title": ""
    }
   },
   "outputs": [
    {
     "data": {
      "text/html": [
       "<style scoped>\n",
       "  .table-result-container {\n",
       "    max-height: 300px;\n",
       "    overflow: auto;\n",
       "  }\n",
       "  table, th, td {\n",
       "    border: 1px solid black;\n",
       "    border-collapse: collapse;\n",
       "  }\n",
       "  th, td {\n",
       "    padding: 5px;\n",
       "  }\n",
       "  th {\n",
       "    text-align: left;\n",
       "  }\n",
       "</style><div class='table-result-container'><table class='table-result'><thead style='background-color: white'><tr><th>idPlayer</th><th>counting</th></tr></thead><tbody><tr><td>1922</td><td>873</td></tr><tr><td>1663</td><td>746</td></tr><tr><td>2289</td><td>677</td></tr><tr><td>20</td><td>666</td></tr><tr><td>1335</td><td>625</td></tr><tr><td>10</td><td>615</td></tr><tr><td>2264</td><td>610</td></tr><tr><td>2077</td><td>603</td></tr><tr><td>321</td><td>600</td></tr><tr><td>65</td><td>586</td></tr></tbody></table></div>"
      ]
     },
     "metadata": {
      "application/vnd.databricks.v1+output": {
       "addedWidgets": {},
       "aggData": [],
       "aggError": "",
       "aggOverflow": false,
       "aggSchema": [],
       "aggSeriesLimitReached": false,
       "aggType": "",
       "arguments": {},
       "columnCustomDisplayInfos": {},
       "data": [
        [
         1922,
         873
        ],
        [
         1663,
         746
        ],
        [
         2289,
         677
        ],
        [
         20,
         666
        ],
        [
         1335,
         625
        ],
        [
         10,
         615
        ],
        [
         2264,
         610
        ],
        [
         2077,
         603
        ],
        [
         321,
         600
        ],
        [
         65,
         586
        ]
       ],
       "datasetInfos": [],
       "dbfsResultPath": null,
       "isJsonSchema": true,
       "metadata": {},
       "overflow": false,
       "plotOptions": {
        "customPlotOptions": {
         "pieChart": [
          {
           "key": "donut",
           "value": true
          }
         ],
         "plotlyBar": [
          {
           "key": "grouped",
           "value": true
          },
          {
           "key": "stacked",
           "value": false
          },
          {
           "key": "100_stacked",
           "value": false
          }
         ],
         "plotlyLine": [
          {
           "key": "yRange",
           "value": ""
          },
          {
           "key": "showPoints",
           "value": false
          },
          {
           "key": "logScale",
           "value": false
          }
         ]
        },
        "displayType": "table",
        "pivotAggregation": "sum",
        "pivotColumns": [],
        "xColumns": [
         "idPlayer"
        ],
        "yColumns": [
         "counting"
        ]
       },
       "removedWidgets": [],
       "schema": [
        {
         "metadata": "{}",
         "name": "idPlayer",
         "type": "\"long\""
        },
        {
         "metadata": "{}",
         "name": "counting",
         "type": "\"long\""
        }
       ],
       "type": "table"
      }
     },
     "output_type": "display_data"
    }
   ],
   "source": [
    "display(\n",
    "    raw_df.groupBy(\"idPlayer\") \\\n",
    "    .count() \\\n",
    "    .select(\n",
    "        col('idPlayer'), col('count').alias('counting')) \\\n",
    "    .sort('counting', ascending=False) \\\n",
    "    .head(10)\n",
    ")"
   ]
  }
 ],
 "metadata": {
  "application/vnd.databricks.v1+notebook": {
   "dashboards": [],
   "language": "python",
   "notebookMetadata": {
    "pythonIndentUnit": 4
   },
   "notebookName": "spark-gc-club-data",
   "notebookOrigID": 2925982919980740,
   "widgets": {}
  },
  "kernelspec": {
   "display_name": "Python 3 (ipykernel)",
   "language": "python",
   "name": "python3"
  },
  "language_info": {
   "codemirror_mode": {
    "name": "ipython",
    "version": 3
   },
   "file_extension": ".py",
   "mimetype": "text/x-python",
   "name": "python",
   "nbconvert_exporter": "python",
   "pygments_lexer": "ipython3",
   "version": "3.10.6"
  }
 },
 "nbformat": 4,
 "nbformat_minor": 4
}
