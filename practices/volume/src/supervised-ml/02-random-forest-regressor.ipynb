{
 "cells": [
  {
   "cell_type": "markdown",
   "id": "660b5366-707c-4d84-a2e9-179bd3327778",
   "metadata": {
    "tags": []
   },
   "source": [
    "# Random Forest Regressor"
   ]
  },
  {
   "cell_type": "markdown",
   "id": "697b9cd2-13a2-4fff-830a-da8241bfa1b4",
   "metadata": {},
   "source": [
    "General Pipeline:\n",
    "\n",
    "- Importing Data\n",
    "- Vectorize and RFormula transformation\n",
    "- Split into train and test\n",
    "- Building the model\n",
    "- Prediction on the test set\n",
    "- Evaluation"
   ]
  },
  {
   "cell_type": "markdown",
   "id": "ba4af6d3-72a9-4e31-b705-6eed118e6635",
   "metadata": {},
   "source": [
    "Hiperparameters:\n",
    "\n",
    "- bootstrap: boolean to pass if it is going to be used or not\n",
    "- maxBins: max of discretization values of continuous features\n",
    "- maxDepth: the depth of each tree\n",
    "- numTrees: the number of random trees"
   ]
  },
  {
   "cell_type": "markdown",
   "id": "cc39d28e-b648-4e1b-9238-fbc72e5552c7",
   "metadata": {
    "tags": []
   },
   "source": [
    "## Importing"
   ]
  },
  {
   "cell_type": "code",
   "execution_count": 1,
   "id": "4b11e27a-6d04-4762-8811-05a2ccf151e1",
   "metadata": {},
   "outputs": [],
   "source": [
    "import pyspark, findspark\n",
    "from pyspark.sql import SparkSession\n",
    "\n",
    "findspark.init()\n",
    "\n",
    "spark = SparkSession.builder.appName(\"rfregressor\").getOrCreate()"
   ]
  },
  {
   "cell_type": "code",
   "execution_count": 15,
   "id": "e16d1c09-6d36-4875-b55c-9e9f9a636805",
   "metadata": {},
   "outputs": [],
   "source": [
    "from pyspark.ml.feature    import RFormula, Normalizer\n",
    "from pyspark.ml.regression import RandomForestRegressor\n",
    "from pyspark.ml.evaluation import RegressionEvaluator"
   ]
  },
  {
   "cell_type": "markdown",
   "id": "b14fd40c-92ab-4426-990f-24635bc761a9",
   "metadata": {
    "tags": []
   },
   "source": [
    "## Loading Data"
   ]
  },
  {
   "cell_type": "code",
   "execution_count": 3,
   "id": "01982a9c-677f-4d69-976f-359390bdf0a6",
   "metadata": {},
   "outputs": [
    {
     "name": "stdout",
     "output_type": "stream",
     "text": [
      "+-------+---------+-----------+---------------+----+-----+---------+-----------+-------+-----------+---+\n",
      "|Consumo|Cilindros|Cilindradas|RelEixoTraseiro|Peso|Tempo|TipoMotor|Transmissao|Marchas|Carburadors| HP|\n",
      "+-------+---------+-----------+---------------+----+-----+---------+-----------+-------+-----------+---+\n",
      "|     21|        6|        160|             39| 262| 1646|        0|          1|      4|          4|110|\n",
      "|     21|        6|        160|             39|2875| 1702|        0|          1|      4|          4|110|\n",
      "+-------+---------+-----------+---------------+----+-----+---------+-----------+-------+-----------+---+\n",
      "only showing top 2 rows\n",
      "\n"
     ]
    }
   ],
   "source": [
    "cars = spark.read.load(\n",
    "    \"../../data/Carros.csv\",\n",
    "    format=\"csv\",\n",
    "    sep=\";\",\n",
    "    header = True, \n",
    "    inferSchema=True)\n",
    "\n",
    "cars.show(2)"
   ]
  },
  {
   "cell_type": "markdown",
   "id": "eff08a4f-191b-4f28-a258-5ddd4e206c96",
   "metadata": {
    "tags": []
   },
   "source": [
    "## Data Preparation"
   ]
  },
  {
   "cell_type": "code",
   "execution_count": 4,
   "id": "19cba7ae-36c8-40f7-934e-baac3e23e2c2",
   "metadata": {},
   "outputs": [],
   "source": [
    "rformula = RFormula(\n",
    "    formula='HP ~ Consumo + Cilindros + Cilindradas',\n",
    "    featuresCol=\"features\",\n",
    "    labelCol=\"target\"\n",
    ")\n",
    "cars = rformula.fit(cars).transform(cars)"
   ]
  },
  {
   "cell_type": "code",
   "execution_count": 5,
   "id": "0f919c68-e4fc-4f6b-9343-f71a6a6c1453",
   "metadata": {},
   "outputs": [
    {
     "name": "stdout",
     "output_type": "stream",
     "text": [
      "+------------------+------+\n",
      "|          features|target|\n",
      "+------------------+------+\n",
      "|  [21.0,6.0,160.0]| 110.0|\n",
      "|  [21.0,6.0,160.0]| 110.0|\n",
      "| [228.0,4.0,108.0]|  93.0|\n",
      "| [214.0,6.0,258.0]| 110.0|\n",
      "| [187.0,8.0,360.0]| 175.0|\n",
      "| [181.0,6.0,225.0]| 105.0|\n",
      "| [143.0,8.0,360.0]| 245.0|\n",
      "|[244.0,4.0,1467.0]|  62.0|\n",
      "|[228.0,4.0,1408.0]|  95.0|\n",
      "|[192.0,6.0,1676.0]| 123.0|\n",
      "+------------------+------+\n",
      "only showing top 10 rows\n",
      "\n"
     ]
    }
   ],
   "source": [
    "cars.select(\"features\", \"target\").show(10)"
   ]
  },
  {
   "cell_type": "code",
   "execution_count": 8,
   "id": "540d3c86-beb2-416b-b7d4-481f9cff5c82",
   "metadata": {},
   "outputs": [],
   "source": [
    "normalizer = Normalizer(\n",
    "    inputCol=\"features\",\n",
    "    outputCol=\"normFeatures\",\n",
    "    p=1.0\n",
    ")\n",
    "\n",
    "cars = normalizer.transform(cars)"
   ]
  },
  {
   "cell_type": "code",
   "execution_count": 10,
   "id": "c0dfbb54-1e06-475f-ac7b-028154f4b036",
   "metadata": {},
   "outputs": [
    {
     "name": "stdout",
     "output_type": "stream",
     "text": [
      "+------------------+--------------------------------------------------------------+\n",
      "|features          |normFeatures                                                  |\n",
      "+------------------+--------------------------------------------------------------+\n",
      "|[21.0,6.0,160.0]  |[0.11229946524064172,0.03208556149732621,0.8556149732620321]  |\n",
      "|[21.0,6.0,160.0]  |[0.11229946524064172,0.03208556149732621,0.8556149732620321]  |\n",
      "|[228.0,4.0,108.0] |[0.6705882352941176,0.011764705882352941,0.3176470588235294]  |\n",
      "|[214.0,6.0,258.0] |[0.4476987447698745,0.012552301255230125,0.5397489539748954]  |\n",
      "|[187.0,8.0,360.0] |[0.33693693693693694,0.014414414414414415,0.6486486486486487] |\n",
      "|[181.0,6.0,225.0] |[0.4393203883495146,0.014563106796116505,0.5461165048543689]  |\n",
      "|[143.0,8.0,360.0] |[0.27984344422700586,0.015655577299412915,0.7045009784735812] |\n",
      "|[244.0,4.0,1467.0]|[0.1422740524781341,0.0023323615160349854,0.8553935860058309] |\n",
      "|[228.0,4.0,1408.0]|[0.13902439024390245,0.0024390243902439024,0.8585365853658536]|\n",
      "|[192.0,6.0,1676.0]|[0.10245464247598719,0.0032017075773745998,0.8943436499466382]|\n",
      "+------------------+--------------------------------------------------------------+\n",
      "only showing top 10 rows\n",
      "\n"
     ]
    }
   ],
   "source": [
    "cars.select(\"features\", \"normFeatures\").show(10, truncate=False)"
   ]
  },
  {
   "cell_type": "markdown",
   "id": "6be061f7-74bb-4af5-a5d8-41ec6ddee528",
   "metadata": {},
   "source": [
    "## Split into Train and Test"
   ]
  },
  {
   "cell_type": "code",
   "execution_count": 13,
   "id": "3257358d-d25c-4ce6-b3c9-29ce3d55bbd9",
   "metadata": {},
   "outputs": [],
   "source": [
    "carsTrain, carsTest = cars.randomSplit([0.7, 0.3], seed=11)"
   ]
  },
  {
   "cell_type": "code",
   "execution_count": 14,
   "id": "32c6063e-afd7-4639-a8a2-61114a950a8a",
   "metadata": {},
   "outputs": [
    {
     "data": {
      "text/plain": [
       "(21, 11)"
      ]
     },
     "execution_count": 14,
     "metadata": {},
     "output_type": "execute_result"
    }
   ],
   "source": [
    "carsTrain.count(), carsTest.count()"
   ]
  },
  {
   "cell_type": "markdown",
   "id": "3470fa4f-348d-42b2-99de-f1c9e139b01b",
   "metadata": {},
   "source": [
    "## Model Development and Training"
   ]
  },
  {
   "cell_type": "code",
   "execution_count": 16,
   "id": "3bd20b81-adba-4344-a06d-af65b47d2705",
   "metadata": {},
   "outputs": [],
   "source": [
    "rflr = RandomForestRegressor(\n",
    "    featuresCol=\"normFeatures\",\n",
    "    labelCol=\"target\",\n",
    "    maxDepth=10,\n",
    "    numTrees=500,\n",
    "    seed=11\n",
    ")\n",
    "\n",
    "model = rflr.fit(carsTrain)"
   ]
  },
  {
   "cell_type": "markdown",
   "id": "48edc68d-21dc-4f0e-abcd-acb87542a771",
   "metadata": {},
   "source": [
    "## Predicting on Test Set"
   ]
  },
  {
   "cell_type": "code",
   "execution_count": 17,
   "id": "56159abe-9f7c-4750-bc62-12a1eaddf604",
   "metadata": {},
   "outputs": [
    {
     "name": "stdout",
     "output_type": "stream",
     "text": [
      "+------+------------------+\n",
      "|target|        prediction|\n",
      "+------+------------------+\n",
      "| 205.0|            202.05|\n",
      "| 245.0|195.35600000000002|\n",
      "| 150.0|156.53366666666662|\n",
      "| 264.0|178.63133333333334|\n",
      "| 180.0|           162.426|\n",
      "| 180.0|           162.426|\n",
      "| 105.0|169.97166666666666|\n",
      "| 175.0|169.80966666666666|\n",
      "| 109.0|111.51900000000002|\n",
      "|  66.0|111.51900000000002|\n",
      "| 113.0|           117.288|\n",
      "+------+------------------+\n",
      "\n"
     ]
    }
   ],
   "source": [
    "predictions = model.transform(carsTest)\n",
    "predictions.select(\"target\", \"prediction\").show()"
   ]
  },
  {
   "cell_type": "markdown",
   "id": "3b7c1740-22d3-4073-b0b6-69239781cf0c",
   "metadata": {},
   "source": [
    "## Model Evaluation"
   ]
  },
  {
   "cell_type": "code",
   "execution_count": 10,
   "id": "983b0917-27a1-42f5-91cd-2e410c80c6b0",
   "metadata": {},
   "outputs": [
    {
     "name": "stdout",
     "output_type": "stream",
     "text": [
      "61.0917281580934\n"
     ]
    }
   ],
   "source": [
    "evaluation = RegressionEvaluator(\n",
    "    predictionCol=\"prediction\",\n",
    "    labelCol=\"target\",\n",
    "    metricName=\"rmse\"\n",
    ")\n",
    "\n",
    "rmse = evaluation.evaluate(predictions)\n",
    "\n",
    "print(rmse)"
   ]
  }
 ],
 "metadata": {
  "kernelspec": {
   "display_name": "Python 3 (ipykernel)",
   "language": "python",
   "name": "python3"
  },
  "language_info": {
   "codemirror_mode": {
    "name": "ipython",
    "version": 3
   },
   "file_extension": ".py",
   "mimetype": "text/x-python",
   "name": "python",
   "nbconvert_exporter": "python",
   "pygments_lexer": "ipython3",
   "version": "3.10.6"
  }
 },
 "nbformat": 4,
 "nbformat_minor": 5
}
