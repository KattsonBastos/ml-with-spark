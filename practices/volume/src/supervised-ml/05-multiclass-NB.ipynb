{
 "cells": [
  {
   "cell_type": "markdown",
   "id": "660b5366-707c-4d84-a2e9-179bd3327778",
   "metadata": {
    "tags": []
   },
   "source": [
    "# Multi-Class with NaiveBayes"
   ]
  },
  {
   "cell_type": "markdown",
   "id": "697b9cd2-13a2-4fff-830a-da8241bfa1b4",
   "metadata": {},
   "source": [
    "General Pipeline:\n",
    "\n",
    "- Importing Data\n",
    "- RFormula transformation\n",
    "- Split into train and test\n",
    "- Building the model\n",
    "- Prediction on the test set\n",
    "- Evaluation"
   ]
  },
  {
   "cell_type": "markdown",
   "id": "cc39d28e-b648-4e1b-9238-fbc72e5552c7",
   "metadata": {
    "tags": []
   },
   "source": [
    "## Importing"
   ]
  },
  {
   "cell_type": "code",
   "execution_count": 2,
   "id": "4b11e27a-6d04-4762-8811-05a2ccf151e1",
   "metadata": {},
   "outputs": [],
   "source": [
    "import pyspark, findspark\n",
    "from pyspark.sql import SparkSession\n",
    "\n",
    "findspark.init()\n",
    "\n",
    "spark = SparkSession.builder.appName(\"nb\").getOrCreate()"
   ]
  },
  {
   "cell_type": "code",
   "execution_count": 18,
   "id": "e16d1c09-6d36-4875-b55c-9e9f9a636805",
   "metadata": {},
   "outputs": [],
   "source": [
    "from pyspark.ml.feature    import RFormula\n",
    "from pyspark.ml.classification import NaiveBayes\n",
    "from pyspark.ml.evaluation import MulticlassClassificationEvaluator"
   ]
  },
  {
   "cell_type": "markdown",
   "id": "b14fd40c-92ab-4426-990f-24635bc761a9",
   "metadata": {
    "tags": []
   },
   "source": [
    "## Loading Data"
   ]
  },
  {
   "cell_type": "code",
   "execution_count": 4,
   "id": "01982a9c-677f-4d69-976f-359390bdf0a6",
   "metadata": {},
   "outputs": [
    {
     "name": "stdout",
     "output_type": "stream",
     "text": [
      "+-----------+----------+-----------+----------+-----------+\n",
      "|sepallength|sepalwidth|petallength|petalwidth|      class|\n",
      "+-----------+----------+-----------+----------+-----------+\n",
      "|        5.1|       3.5|        1.4|       0.2|Iris-setosa|\n",
      "|        4.9|       3.0|        1.4|       0.2|Iris-setosa|\n",
      "+-----------+----------+-----------+----------+-----------+\n",
      "only showing top 2 rows\n",
      "\n"
     ]
    }
   ],
   "source": [
    "data = spark.read.load(\n",
    "    \"../../data/iris.csv\",\n",
    "    format=\"csv\",\n",
    "    sep=\",\",\n",
    "    header = True, \n",
    "    inferSchema=True)\n",
    "\n",
    "data.show(2)"
   ]
  },
  {
   "cell_type": "markdown",
   "id": "eff08a4f-191b-4f28-a258-5ddd4e206c96",
   "metadata": {
    "tags": []
   },
   "source": [
    "## Data Preparation"
   ]
  },
  {
   "cell_type": "markdown",
   "id": "08409b89-4b45-4c5a-bd83-b28344c7cc1b",
   "metadata": {},
   "source": [
    "RFormula automatically applies a categorical encoding to the target column."
   ]
  },
  {
   "cell_type": "code",
   "execution_count": 7,
   "id": "19cba7ae-36c8-40f7-934e-baac3e23e2c2",
   "metadata": {},
   "outputs": [],
   "source": [
    "rformula = RFormula(\n",
    "    formula='class ~ .',\n",
    "    featuresCol=\"features\",\n",
    "    labelCol=\"target\"\n",
    ")\n",
    "data = rformula.fit(data).transform(data)"
   ]
  },
  {
   "cell_type": "code",
   "execution_count": 9,
   "id": "0f919c68-e4fc-4f6b-9343-f71a6a6c1453",
   "metadata": {},
   "outputs": [
    {
     "name": "stdout",
     "output_type": "stream",
     "text": [
      "+-----------------+------+\n",
      "|         features|target|\n",
      "+-----------------+------+\n",
      "|[5.1,3.5,1.4,0.2]|   0.0|\n",
      "|[4.9,3.0,1.4,0.2]|   0.0|\n",
      "|[4.7,3.2,1.3,0.2]|   0.0|\n",
      "|[4.6,3.1,1.5,0.2]|   0.0|\n",
      "|[5.0,3.6,1.4,0.2]|   0.0|\n",
      "|[5.4,3.9,1.7,0.4]|   0.0|\n",
      "|[4.6,3.4,1.4,0.3]|   0.0|\n",
      "|[5.0,3.4,1.5,0.2]|   0.0|\n",
      "|[4.4,2.9,1.4,0.2]|   0.0|\n",
      "|[4.9,3.1,1.5,0.1]|   0.0|\n",
      "+-----------------+------+\n",
      "only showing top 10 rows\n",
      "\n"
     ]
    }
   ],
   "source": [
    "data.select(\"features\", \"target\").show(10)"
   ]
  },
  {
   "cell_type": "markdown",
   "id": "6be061f7-74bb-4af5-a5d8-41ec6ddee528",
   "metadata": {},
   "source": [
    "## Split into Train and Test"
   ]
  },
  {
   "cell_type": "code",
   "execution_count": 10,
   "id": "3257358d-d25c-4ce6-b3c9-29ce3d55bbd9",
   "metadata": {},
   "outputs": [],
   "source": [
    "dataTrain, dataTest = data.randomSplit([0.7, 0.3], seed=11)"
   ]
  },
  {
   "cell_type": "code",
   "execution_count": 11,
   "id": "32c6063e-afd7-4639-a8a2-61114a950a8a",
   "metadata": {},
   "outputs": [
    {
     "data": {
      "text/plain": [
       "(106, 44)"
      ]
     },
     "execution_count": 11,
     "metadata": {},
     "output_type": "execute_result"
    }
   ],
   "source": [
    "dataTrain.count(), dataTest.count()"
   ]
  },
  {
   "cell_type": "markdown",
   "id": "3470fa4f-348d-42b2-99de-f1c9e139b01b",
   "metadata": {},
   "source": [
    "## Model Development and Training"
   ]
  },
  {
   "cell_type": "code",
   "execution_count": 14,
   "id": "3bd20b81-adba-4344-a06d-af65b47d2705",
   "metadata": {},
   "outputs": [],
   "source": [
    "nb = NaiveBayes(\n",
    "    featuresCol=\"features\",\n",
    "    labelCol=\"target\",\n",
    "    smoothing=1.0,\n",
    "    modelType=\"multinomial\"\n",
    ")\n",
    "\n",
    "model = nb.fit(dataTrain)"
   ]
  },
  {
   "cell_type": "markdown",
   "id": "48edc68d-21dc-4f0e-abcd-acb87542a771",
   "metadata": {
    "tags": []
   },
   "source": [
    "## Predicting on Test Set"
   ]
  },
  {
   "cell_type": "code",
   "execution_count": 16,
   "id": "56159abe-9f7c-4750-bc62-12a1eaddf604",
   "metadata": {},
   "outputs": [
    {
     "name": "stdout",
     "output_type": "stream",
     "text": [
      "+------+----------+-------------------------------------------------------------+-------------------------------------------------------------+\n",
      "|target|prediction|probability                                                  |rawPrediction                                                |\n",
      "+------+----------+-------------------------------------------------------------+-------------------------------------------------------------+\n",
      "|0.0   |0.0       |[0.6587987467330385,0.21653768475482915,0.1246635685121324]  |[-11.39899773898843,-12.511651239114011,-13.063797178011296] |\n",
      "|0.0   |0.0       |[0.6887599627973885,0.19882345920313785,0.11241657799947365] |[-11.3137265639653,-12.556202098068914,-13.12640797168702]   |\n",
      "|0.0   |0.0       |[0.7005249907870801,0.19239017802355332,0.10708483118936661] |[-10.875038987983933,-12.167343541611542,-12.753247693562319]|\n",
      "|0.0   |0.0       |[0.6405418590167965,0.22709220985084544,0.13236593113235806] |[-11.601408769851181,-12.638367096911905,-13.178152950049128]|\n",
      "|0.0   |0.0       |[0.6506478139488107,0.22225109225900014,0.12710109379218912] |[-11.734661520283357,-12.80882223477148,-13.367647239785487] |\n",
      "|0.0   |0.0       |[0.6905348514250871,0.19916475319948015,0.11030039537543286] |[-12.060556811602899,-13.303890868191035,-13.894815745116698]|\n",
      "|1.0   |1.0       |[0.10161612850146429,0.48981160106983734,0.40857227042869837]|[-17.24694868212665,-15.674130120207733,-15.855482134519232] |\n",
      "|2.0   |2.0       |[0.017745574490709928,0.4769665871702861,0.5052878383390039] |[-22.224709947990913,-18.93339966778494,-18.875717864549642] |\n",
      "|0.0   |0.0       |[0.7013888710712103,0.19254476188582337,0.10606636704296633] |[-11.248454111802733,-12.541187926672604,-13.137451580277158]|\n",
      "|0.0   |0.0       |[0.7147495638061704,0.18497655921187703,0.10027387698195263] |[-12.008414715305207,-13.360117826145267,-13.972441724021529]|\n",
      "|0.0   |0.0       |[0.7300692180246806,0.17518742439871393,0.09474335757660537] |[-12.092425492419395,-13.51970844389873,-14.134393104505978] |\n",
      "|1.0   |1.0       |[0.12081757900945125,0.48451648888718385,0.3946659321033649] |[-17.278817362943144,-15.889947695915431,-16.095059493908508]|\n",
      "|0.0   |0.0       |[0.7187957008156962,0.18280225518461665,0.09840204399968726] |[-12.079295136554517,-13.448467314548191,-14.067810734191283]|\n",
      "|0.0   |0.0       |[0.7000203944426084,0.19404889744892728,0.10593070810846428] |[-13.131560209741307,-14.41455950326811,-15.019884496009304] |\n",
      "|0.0   |0.0       |[0.7394767445015679,0.17052455658005242,0.08999869891837964] |[-12.877007082580864,-14.344070603424447,-14.983154702876302]|\n",
      "|0.0   |0.0       |[0.750800916054045,0.16399481486265038,0.08520426908330456]  |[-12.70772513044355,-14.229030844625884,-14.883814116067576] |\n",
      "|0.0   |0.0       |[0.6740841911081157,0.2100030097687813,0.11591279912310302]  |[-13.018306182169692,-14.184539335057329,-14.77882302118736] |\n",
      "|0.0   |0.0       |[0.7058743384197002,0.19211811162000947,0.10200754996029032] |[-13.949270878628214,-15.250597761793157,-15.883661279608738]|\n",
      "|1.0   |1.0       |[0.08607268296987335,0.5011572524107477,0.41277006461937904] |[-18.44784296480774,-16.686115126031755,-16.880144361276486] |\n",
      "|1.0   |1.0       |[0.07093970142166484,0.5048356098408763,0.42422468873745883] |[-19.37834591835647,-17.415943307594617,-17.58991291766941]  |\n",
      "+------+----------+-------------------------------------------------------------+-------------------------------------------------------------+\n",
      "only showing top 20 rows\n",
      "\n"
     ]
    }
   ],
   "source": [
    "predictions = model.transform(dataTest)\n",
    "predictions.select(\"target\", \"prediction\", \"probability\", \"rawPrediction\").show(truncate=False)"
   ]
  },
  {
   "cell_type": "markdown",
   "id": "3b7c1740-22d3-4073-b0b6-69239781cf0c",
   "metadata": {},
   "source": [
    "## Model Evaluation"
   ]
  },
  {
   "cell_type": "code",
   "execution_count": 20,
   "id": "983b0917-27a1-42f5-91cd-2e410c80c6b0",
   "metadata": {},
   "outputs": [
    {
     "name": "stdout",
     "output_type": "stream",
     "text": [
      "0.8636363636363636\n"
     ]
    }
   ],
   "source": [
    "evaluation = MulticlassClassificationEvaluator(\n",
    "    predictionCol=\"prediction\",\n",
    "    labelCol=\"target\",\n",
    "    metricName=\"accuracy\"\n",
    ")\n",
    "\n",
    "auroc = evaluation.evaluate(predictions)\n",
    "\n",
    "print(auroc)"
   ]
  },
  {
   "cell_type": "code",
   "execution_count": null,
   "id": "79d8a684-4979-4e1c-8eb6-fc136aa7977c",
   "metadata": {},
   "outputs": [],
   "source": []
  }
 ],
 "metadata": {
  "kernelspec": {
   "display_name": "Python 3 (ipykernel)",
   "language": "python",
   "name": "python3"
  },
  "language_info": {
   "codemirror_mode": {
    "name": "ipython",
    "version": 3
   },
   "file_extension": ".py",
   "mimetype": "text/x-python",
   "name": "python",
   "nbconvert_exporter": "python",
   "pygments_lexer": "ipython3",
   "version": "3.10.6"
  }
 },
 "nbformat": 4,
 "nbformat_minor": 5
}
