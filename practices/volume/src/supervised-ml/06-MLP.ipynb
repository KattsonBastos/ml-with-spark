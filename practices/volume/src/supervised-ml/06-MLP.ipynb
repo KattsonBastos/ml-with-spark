{
 "cells": [
  {
   "cell_type": "markdown",
   "id": "660b5366-707c-4d84-a2e9-179bd3327778",
   "metadata": {
    "tags": []
   },
   "source": [
    "# Classification with Multi Layer Perceptron"
   ]
  },
  {
   "cell_type": "markdown",
   "id": "697b9cd2-13a2-4fff-830a-da8241bfa1b4",
   "metadata": {},
   "source": [
    "General Pipeline:\n",
    "\n",
    "- Importing Data\n",
    "- RFormula transformation\n",
    "- Split into train and test\n",
    "- Building the model\n",
    "- Prediction on the test set\n",
    "- Evaluation"
   ]
  },
  {
   "cell_type": "markdown",
   "id": "cc39d28e-b648-4e1b-9238-fbc72e5552c7",
   "metadata": {
    "tags": []
   },
   "source": [
    "## Importing"
   ]
  },
  {
   "cell_type": "code",
   "execution_count": 1,
   "id": "4b11e27a-6d04-4762-8811-05a2ccf151e1",
   "metadata": {},
   "outputs": [],
   "source": [
    "import pyspark, findspark\n",
    "from pyspark.sql import SparkSession\n",
    "\n",
    "findspark.init()\n",
    "\n",
    "spark = SparkSession.builder.appName(\"nb\").getOrCreate()"
   ]
  },
  {
   "cell_type": "code",
   "execution_count": 13,
   "id": "e16d1c09-6d36-4875-b55c-9e9f9a636805",
   "metadata": {},
   "outputs": [],
   "source": [
    "from pyspark.ml.feature    import RFormula, VectorAssembler, StringIndexer\n",
    "from pyspark.ml.classification import MultilayerPerceptronClassifier\n",
    "from pyspark.ml.evaluation import MulticlassClassificationEvaluator"
   ]
  },
  {
   "cell_type": "markdown",
   "id": "b14fd40c-92ab-4426-990f-24635bc761a9",
   "metadata": {
    "tags": []
   },
   "source": [
    "## Loading Data"
   ]
  },
  {
   "cell_type": "code",
   "execution_count": 3,
   "id": "01982a9c-677f-4d69-976f-359390bdf0a6",
   "metadata": {},
   "outputs": [
    {
     "name": "stdout",
     "output_type": "stream",
     "text": [
      "+-----------+----------+-----------+----------+-----------+\n",
      "|sepallength|sepalwidth|petallength|petalwidth|      class|\n",
      "+-----------+----------+-----------+----------+-----------+\n",
      "|        5.1|       3.5|        1.4|       0.2|Iris-setosa|\n",
      "|        4.9|       3.0|        1.4|       0.2|Iris-setosa|\n",
      "+-----------+----------+-----------+----------+-----------+\n",
      "only showing top 2 rows\n",
      "\n"
     ]
    }
   ],
   "source": [
    "data = spark.read.load(\n",
    "    \"../../data/iris.csv\",\n",
    "    format=\"csv\",\n",
    "    sep=\",\",\n",
    "    header = True, \n",
    "    inferSchema=True)\n",
    "\n",
    "data.show(2)"
   ]
  },
  {
   "cell_type": "markdown",
   "id": "eff08a4f-191b-4f28-a258-5ddd4e206c96",
   "metadata": {
    "tags": []
   },
   "source": [
    "## Data Preparation"
   ]
  },
  {
   "cell_type": "code",
   "execution_count": 6,
   "id": "465ff146-f90a-41ad-9ad1-2330c4a5ca32",
   "metadata": {},
   "outputs": [
    {
     "name": "stdout",
     "output_type": "stream",
     "text": [
      "+-----------+----------+-----------+----------+-----------+-----------------+\n",
      "|sepallength|sepalwidth|petallength|petalwidth|      class|         features|\n",
      "+-----------+----------+-----------+----------+-----------+-----------------+\n",
      "|        5.1|       3.5|        1.4|       0.2|Iris-setosa|[5.1,3.5,1.4,0.2]|\n",
      "|        4.9|       3.0|        1.4|       0.2|Iris-setosa|[4.9,3.0,1.4,0.2]|\n",
      "+-----------+----------+-----------+----------+-----------+-----------------+\n",
      "only showing top 2 rows\n",
      "\n"
     ]
    }
   ],
   "source": [
    "asb = VectorAssembler(\n",
    "    inputCols=[\"sepallength\",\"sepalwidth\",\"petallength\",\"petalwidth\"],\n",
    "    outputCol=\"features\"\n",
    ")\n",
    "\n",
    "data = asb.transform(data)\n",
    "data.show(2)"
   ]
  },
  {
   "cell_type": "code",
   "execution_count": 8,
   "id": "1c0ab2f3-d554-4829-9de9-ddfcf627d4c9",
   "metadata": {},
   "outputs": [
    {
     "name": "stdout",
     "output_type": "stream",
     "text": [
      "+-----------+----------+-----------+----------+-----------+-----------------+------+\n",
      "|sepallength|sepalwidth|petallength|petalwidth|      class|         features|target|\n",
      "+-----------+----------+-----------+----------+-----------+-----------------+------+\n",
      "|        5.1|       3.5|        1.4|       0.2|Iris-setosa|[5.1,3.5,1.4,0.2]|   0.0|\n",
      "|        4.9|       3.0|        1.4|       0.2|Iris-setosa|[4.9,3.0,1.4,0.2]|   0.0|\n",
      "+-----------+----------+-----------+----------+-----------+-----------------+------+\n",
      "only showing top 2 rows\n",
      "\n"
     ]
    }
   ],
   "source": [
    "ind = StringIndexer(\n",
    "    inputCol=\"class\",\n",
    "    outputCol=\"target\"\n",
    ")\n",
    "\n",
    "data = ind.fit(data).transform(data)\n",
    "data.show(2)"
   ]
  },
  {
   "cell_type": "markdown",
   "id": "6be061f7-74bb-4af5-a5d8-41ec6ddee528",
   "metadata": {},
   "source": [
    "## Split into Train and Test"
   ]
  },
  {
   "cell_type": "code",
   "execution_count": 9,
   "id": "3257358d-d25c-4ce6-b3c9-29ce3d55bbd9",
   "metadata": {},
   "outputs": [],
   "source": [
    "dataTrain, dataTest = data.randomSplit([0.7, 0.3], seed=11)"
   ]
  },
  {
   "cell_type": "code",
   "execution_count": 10,
   "id": "32c6063e-afd7-4639-a8a2-61114a950a8a",
   "metadata": {},
   "outputs": [
    {
     "data": {
      "text/plain": [
       "(106, 44)"
      ]
     },
     "execution_count": 10,
     "metadata": {},
     "output_type": "execute_result"
    }
   ],
   "source": [
    "dataTrain.count(), dataTest.count()"
   ]
  },
  {
   "cell_type": "markdown",
   "id": "3470fa4f-348d-42b2-99de-f1c9e139b01b",
   "metadata": {},
   "source": [
    "## Model Development and Training"
   ]
  },
  {
   "cell_type": "code",
   "execution_count": 18,
   "id": "3bd20b81-adba-4344-a06d-af65b47d2705",
   "metadata": {},
   "outputs": [],
   "source": [
    "mlp = MultilayerPerceptronClassifier(\n",
    "    featuresCol=\"features\",\n",
    "    labelCol=\"target\",\n",
    "    maxIter=1000,\n",
    "    layers=[4,5,4,3]\n",
    ")\n",
    "\n",
    "model = mlp.fit(dataTrain)"
   ]
  },
  {
   "cell_type": "markdown",
   "id": "48edc68d-21dc-4f0e-abcd-acb87542a771",
   "metadata": {
    "tags": []
   },
   "source": [
    "## Predicting on Test Set"
   ]
  },
  {
   "cell_type": "code",
   "execution_count": 19,
   "id": "56159abe-9f7c-4750-bc62-12a1eaddf604",
   "metadata": {},
   "outputs": [
    {
     "name": "stdout",
     "output_type": "stream",
     "text": [
      "+------+----------+-----------------------------------------------------------------+------------------------------------------------------------+\n",
      "|target|prediction|probability                                                      |rawPrediction                                               |\n",
      "+------+----------+-----------------------------------------------------------------+------------------------------------------------------------+\n",
      "|0.0   |0.0       |[1.0,4.035458900236947E-108,3.4681781007377533E-189]             |[227.37834072831674,-19.90572928986262,-206.56661243449756] |\n",
      "|0.0   |0.0       |[1.0,4.035180726191833E-108,3.4679658876130403E-189]             |[227.37838413891598,-19.90575481408345,-206.5666302144172]  |\n",
      "|0.0   |0.0       |[1.0,4.0352818996242034E-108,3.4680430708738136E-189]            |[227.3783683498968,-19.905745530579026,-206.56662374762288] |\n",
      "|0.0   |0.0       |[1.0,4.035391202268137E-108,3.4681264555344E-189]                |[227.37835129268382,-19.90573550141579,-206.5666167614037]  |\n",
      "|0.0   |0.0       |[1.0,4.035621247781167E-108,3.4683019515331535E-189]             |[227.3783153944639,-19.905714394268784,-206.56660205836647] |\n",
      "|0.0   |0.0       |[1.0,4.0351729195922096E-108,3.4679599321454066E-189]            |[227.37838535721772,-19.90575553041802,-206.56663071339665] |\n",
      "|1.0   |1.0       |[2.545585274829702E-52,1.0,5.471300346291062E-95]                |[-6.750388894127539,112.04967534753597,-104.99639217544544] |\n",
      "|2.0   |1.0       |[1.7971266142908538E-107,0.9928842769238623,0.007115723076137786]|[-162.43898042286446,83.344294302899,78.40598703787583]     |\n",
      "|0.0   |0.0       |[1.0,4.035275273624506E-108,3.468038016058873E-189]              |[227.3783693839287,-19.905746138565007,-206.56662417113304] |\n",
      "|0.0   |0.0       |[1.0,4.0350929491056965E-108,3.4678989240545135E-189]            |[227.37839783763002,-19.905762868556394,-206.56663582506405]|\n",
      "|0.0   |0.0       |[1.0,4.035045524367458E-108,3.467862744420394E-189]              |[227.378405238987,-19.90576722034055,-206.56663885648598]   |\n",
      "|1.0   |0.0       |[1.0,1.3673582000498956E-76,2.1542297518973327E-160]             |[181.0390436314903,6.355457121046641,-186.6071380116059]    |\n",
      "|0.0   |0.0       |[1.0,4.03508556956274E-108,3.467893294324962E-189]               |[227.3783989893139,-19.905763545715075,-206.5666362967649]  |\n",
      "|0.0   |0.0       |[1.0,4.0350497591930205E-108,3.467865975174787E-189]             |[227.37840457806766,-19.90576683174922,-206.56663858577883] |\n",
      "|0.0   |0.0       |[1.0,4.03504067366401E-108,3.46785904396336E-189]                |[227.37840599601117,-19.90576766546053,-206.56663916653375] |\n",
      "|0.0   |0.0       |[1.0,4.0350454093069174E-108,3.4678626567142798E-189]            |[227.37840525693713,-19.905767230905724,-206.566638863827]  |\n",
      "|0.0   |0.0       |[1.0,4.035084583621964E-108,3.4678925421705587E-189]             |[227.37839914318397,-19.905763636187004,-206.56663635978572]|\n",
      "|0.0   |0.0       |[1.0,4.035046646035331E-108,3.4678636001976542E-189]             |[227.37840506392553,-19.905767117420595,-206.56663878477383]|\n",
      "|1.0   |1.0       |[1.1433746313869413E-70,1.0,1.6920872847513814E-96]              |[-33.779516942352785,127.26745547462642,-93.25475060621599] |\n",
      "|1.0   |1.0       |[5.327232414525575E-73,1.0,1.0863810270560607E-96]               |[-37.214036282579485,129.2018436494691,-91.7634732643395]   |\n",
      "+------+----------+-----------------------------------------------------------------+------------------------------------------------------------+\n",
      "only showing top 20 rows\n",
      "\n"
     ]
    }
   ],
   "source": [
    "predictions = model.transform(dataTest)\n",
    "predictions.select(\"target\", \"prediction\", \"probability\", \"rawPrediction\").show(truncate=False)"
   ]
  },
  {
   "cell_type": "markdown",
   "id": "3b7c1740-22d3-4073-b0b6-69239781cf0c",
   "metadata": {},
   "source": [
    "## Model Evaluation"
   ]
  },
  {
   "cell_type": "code",
   "execution_count": 20,
   "id": "983b0917-27a1-42f5-91cd-2e410c80c6b0",
   "metadata": {},
   "outputs": [
    {
     "name": "stdout",
     "output_type": "stream",
     "text": [
      "0.9318181818181818\n"
     ]
    }
   ],
   "source": [
    "evaluation = MulticlassClassificationEvaluator(\n",
    "    predictionCol=\"prediction\",\n",
    "    labelCol=\"target\",\n",
    "    metricName=\"accuracy\"\n",
    ")\n",
    "\n",
    "auroc = evaluation.evaluate(predictions)\n",
    "\n",
    "print(auroc)"
   ]
  }
 ],
 "metadata": {
  "kernelspec": {
   "display_name": "Python 3 (ipykernel)",
   "language": "python",
   "name": "python3"
  },
  "language_info": {
   "codemirror_mode": {
    "name": "ipython",
    "version": 3
   },
   "file_extension": ".py",
   "mimetype": "text/x-python",
   "name": "python",
   "nbconvert_exporter": "python",
   "pygments_lexer": "ipython3",
   "version": "3.10.6"
  }
 },
 "nbformat": 4,
 "nbformat_minor": 5
}
