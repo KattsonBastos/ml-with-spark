{
 "cells": [
  {
   "cell_type": "markdown",
   "id": "660b5366-707c-4d84-a2e9-179bd3327778",
   "metadata": {
    "tags": []
   },
   "source": [
    "# Logistic Regression"
   ]
  },
  {
   "cell_type": "markdown",
   "id": "697b9cd2-13a2-4fff-830a-da8241bfa1b4",
   "metadata": {},
   "source": [
    "General Pipeline:\n",
    "\n",
    "- Importing Data\n",
    "- Vectorize and RFormula transformation\n",
    "- Split into train and test\n",
    "- Building the model\n",
    "- Prediction on the test set\n",
    "- Evaluation"
   ]
  },
  {
   "cell_type": "markdown",
   "id": "cc39d28e-b648-4e1b-9238-fbc72e5552c7",
   "metadata": {
    "tags": []
   },
   "source": [
    "## Importing"
   ]
  },
  {
   "cell_type": "code",
   "execution_count": 1,
   "id": "4b11e27a-6d04-4762-8811-05a2ccf151e1",
   "metadata": {},
   "outputs": [],
   "source": [
    "import pyspark, findspark\n",
    "from pyspark.sql import SparkSession\n",
    "\n",
    "findspark.init()\n",
    "\n",
    "spark = SparkSession.builder.appName(\"logistic\").getOrCreate()"
   ]
  },
  {
   "cell_type": "code",
   "execution_count": 23,
   "id": "e16d1c09-6d36-4875-b55c-9e9f9a636805",
   "metadata": {},
   "outputs": [],
   "source": [
    "from pyspark.ml.feature    import RFormula\n",
    "from pyspark.ml.classification import LogisticRegression\n",
    "from pyspark.ml.evaluation import BinaryClassificationEvaluator"
   ]
  },
  {
   "cell_type": "markdown",
   "id": "b14fd40c-92ab-4426-990f-24635bc761a9",
   "metadata": {
    "tags": []
   },
   "source": [
    "## Loading Data"
   ]
  },
  {
   "cell_type": "code",
   "execution_count": 3,
   "id": "01982a9c-677f-4d69-976f-359390bdf0a6",
   "metadata": {},
   "outputs": [
    {
     "name": "stdout",
     "output_type": "stream",
     "text": [
      "+-----------+---------+------+---+------+-------+-------------+---------+--------------+---------------+------+\n",
      "|CreditScore|Geography|Gender|Age|Tenure|Balance|NumOfProducts|HasCrCard|IsActiveMember|EstimatedSalary|Exited|\n",
      "+-----------+---------+------+---+------+-------+-------------+---------+--------------+---------------+------+\n",
      "|        619|   France|Female| 42|     2|      0|            1|        1|             1|       10134888|     1|\n",
      "|        608|    Spain|Female| 41|     1|8380786|            1|        0|             1|       11254258|     0|\n",
      "+-----------+---------+------+---+------+-------+-------------+---------+--------------+---------------+------+\n",
      "only showing top 2 rows\n",
      "\n"
     ]
    }
   ],
   "source": [
    "churn = spark.read.load(\n",
    "    \"../../data/Churn.csv\",\n",
    "    format=\"csv\",\n",
    "    sep=\";\",\n",
    "    header = True, \n",
    "    inferSchema=True)\n",
    "\n",
    "churn.show(2)"
   ]
  },
  {
   "cell_type": "markdown",
   "id": "eff08a4f-191b-4f28-a258-5ddd4e206c96",
   "metadata": {
    "tags": []
   },
   "source": [
    "## Data Preparation"
   ]
  },
  {
   "cell_type": "code",
   "execution_count": 4,
   "id": "19cba7ae-36c8-40f7-934e-baac3e23e2c2",
   "metadata": {},
   "outputs": [],
   "source": [
    "rformula = RFormula(\n",
    "    formula='Exited ~ .',\n",
    "    featuresCol=\"features\",\n",
    "    labelCol=\"target\"\n",
    ")\n",
    "churn = rformula.fit(churn).transform(churn)"
   ]
  },
  {
   "cell_type": "code",
   "execution_count": 5,
   "id": "0f919c68-e4fc-4f6b-9343-f71a6a6c1453",
   "metadata": {},
   "outputs": [
    {
     "name": "stdout",
     "output_type": "stream",
     "text": [
      "+--------------------+------+\n",
      "|            features|target|\n",
      "+--------------------+------+\n",
      "|[619.0,1.0,0.0,0....|   1.0|\n",
      "|[608.0,0.0,0.0,0....|   0.0|\n",
      "|[502.0,1.0,0.0,0....|   1.0|\n",
      "|(11,[0,1,4,5,7,10...|   0.0|\n",
      "|[850.0,0.0,0.0,0....|   0.0|\n",
      "|[645.0,0.0,0.0,1....|   1.0|\n",
      "|[822.0,1.0,0.0,1....|   0.0|\n",
      "|[376.0,0.0,1.0,0....|   1.0|\n",
      "|[501.0,1.0,0.0,1....|   0.0|\n",
      "|[684.0,1.0,0.0,1....|   0.0|\n",
      "+--------------------+------+\n",
      "only showing top 10 rows\n",
      "\n"
     ]
    }
   ],
   "source": [
    "churn.select(\"features\", \"target\").show(10)"
   ]
  },
  {
   "cell_type": "markdown",
   "id": "6be061f7-74bb-4af5-a5d8-41ec6ddee528",
   "metadata": {},
   "source": [
    "## Split into Train and Test"
   ]
  },
  {
   "cell_type": "code",
   "execution_count": 7,
   "id": "3257358d-d25c-4ce6-b3c9-29ce3d55bbd9",
   "metadata": {},
   "outputs": [],
   "source": [
    "churnTrain, churnTest = churn.randomSplit([0.7, 0.3], seed=11)"
   ]
  },
  {
   "cell_type": "code",
   "execution_count": 8,
   "id": "32c6063e-afd7-4639-a8a2-61114a950a8a",
   "metadata": {},
   "outputs": [
    {
     "data": {
      "text/plain": [
       "(7028, 2972)"
      ]
     },
     "execution_count": 8,
     "metadata": {},
     "output_type": "execute_result"
    }
   ],
   "source": [
    "churnTrain.count(), churnTest.count()"
   ]
  },
  {
   "cell_type": "markdown",
   "id": "3470fa4f-348d-42b2-99de-f1c9e139b01b",
   "metadata": {},
   "source": [
    "## Model Development and Training"
   ]
  },
  {
   "cell_type": "code",
   "execution_count": 10,
   "id": "3bd20b81-adba-4344-a06d-af65b47d2705",
   "metadata": {},
   "outputs": [],
   "source": [
    "lr = LogisticRegression(\n",
    "    featuresCol=\"features\",\n",
    "    labelCol=\"target\",\n",
    "    maxIter=100,\n",
    "    regParam=0.08\n",
    ")\n",
    "\n",
    "model = lr.fit(churnTrain)"
   ]
  },
  {
   "cell_type": "code",
   "execution_count": 15,
   "id": "a6436af7-5768-4e6c-8fb7-4b58643636ce",
   "metadata": {},
   "outputs": [],
   "source": [
    "model_summary = model.summary\n",
    "\n",
    "acc = model_summary.accuracy\n",
    "precision = model_summary.weightedPrecision\n",
    "recall = model_summary.weightedRecall\n",
    "auc =  model_summary.areaUnderROC"
   ]
  },
  {
   "cell_type": "markdown",
   "id": "a64a3818-6fab-4a67-887c-485d6b1e8f44",
   "metadata": {},
   "source": [
    "Model Metrics:"
   ]
  },
  {
   "cell_type": "code",
   "execution_count": 19,
   "id": "5fedcc9e-bf39-4ddd-9669-6a518f70030d",
   "metadata": {},
   "outputs": [
    {
     "name": "stdout",
     "output_type": "stream",
     "text": [
      "Acc:  0.806061468412066 \n",
      "Precision:  0.7807859812023539 \n",
      "Recall:  0.8060614684120659 \n",
      "AUC:  0.7703570589972973\n"
     ]
    }
   ],
   "source": [
    "print(\"Acc: \", acc, '\\nPrecision: ', precision, '\\nRecall: ', recall, '\\nAUC: ', auc)"
   ]
  },
  {
   "cell_type": "markdown",
   "id": "48edc68d-21dc-4f0e-abcd-acb87542a771",
   "metadata": {
    "tags": []
   },
   "source": [
    "## Predicting on Test Set"
   ]
  },
  {
   "cell_type": "code",
   "execution_count": 22,
   "id": "56159abe-9f7c-4750-bc62-12a1eaddf604",
   "metadata": {},
   "outputs": [
    {
     "name": "stdout",
     "output_type": "stream",
     "text": [
      "+------+----------+----------------------------------------+------------------------------------------+\n",
      "|target|prediction|probability                             |rawPrediction                             |\n",
      "+------+----------+----------------------------------------+------------------------------------------+\n",
      "|1.0   |1.0       |[0.3604245259765515,0.6395754740234485] |[-0.5735220589021472,0.5735220589021472]  |\n",
      "|1.0   |0.0       |[0.5914189707831217,0.40858102921687833]|[0.36983443209111444,-0.36983443209111444]|\n",
      "|1.0   |0.0       |[0.8034155096303097,0.19658449036969028]|[1.407779711398495,-1.407779711398495]    |\n",
      "|1.0   |0.0       |[0.7061757122454291,0.2938242877545709] |[0.8768821627574368,-0.8768821627574368]  |\n",
      "|1.0   |0.0       |[0.7252036034728151,0.2747963965271849] |[0.9704220006170146,-0.9704220006170146]  |\n",
      "|1.0   |0.0       |[0.8862059085371382,0.11379409146286179]|[2.052558726033117,-2.052558726033117]    |\n",
      "|1.0   |0.0       |[0.6740301735463888,0.32596982645361117]|[0.7264700575909453,-0.7264700575909453]  |\n",
      "|1.0   |0.0       |[0.759646764433909,0.240353235566091]   |[1.1507438854525773,-1.1507438854525773]  |\n",
      "|1.0   |0.0       |[0.832324477541437,0.167675522458563]   |[1.6021916639559957,-1.6021916639559957]  |\n",
      "|1.0   |0.0       |[0.8314693460661196,0.16853065393388045]|[1.5960767764251527,-1.5960767764251527]  |\n",
      "|0.0   |0.0       |[0.8806975257931787,0.11930247420682127]|[1.9990521681848816,-1.9990521681848816]  |\n",
      "|0.0   |0.0       |[0.9245666851603427,0.07543331483965732]|[2.5060761604753377,-2.5060761604753377]  |\n",
      "|0.0   |0.0       |[0.8620717482165103,0.13792825178348966]|[1.8326048664474612,-1.8326048664474612]  |\n",
      "|1.0   |0.0       |[0.8983187525809282,0.10168124741907181]|[2.1786820687572446,-2.1786820687572446]  |\n",
      "|0.0   |0.0       |[0.7447217364518468,0.2552782635481532] |[1.0706564606889104,-1.0706564606889104]  |\n",
      "|0.0   |0.0       |[0.9019244450897306,0.09807555491026942]|[2.2187926026964497,-2.2187926026964497]  |\n",
      "|0.0   |0.0       |[0.7654104035861452,0.2345895964138548] |[1.1825745760770685,-1.1825745760770685]  |\n",
      "|0.0   |0.0       |[0.9174098714132745,0.08259012858672554]|[2.4076641775615744,-2.4076641775615744]  |\n",
      "|0.0   |0.0       |[0.872096435606672,0.12790356439332795] |[1.9196234322945787,-1.9196234322945787]  |\n",
      "|0.0   |0.0       |[0.8869760829034016,0.11302391709659843]|[2.0602185658752643,-2.0602185658752643]  |\n",
      "+------+----------+----------------------------------------+------------------------------------------+\n",
      "only showing top 20 rows\n",
      "\n"
     ]
    }
   ],
   "source": [
    "predictions = model.transform(churnTest)\n",
    "predictions.select(\"target\", \"prediction\", \"probability\", \"rawPrediction\").show(truncate=False)"
   ]
  },
  {
   "cell_type": "markdown",
   "id": "3b7c1740-22d3-4073-b0b6-69239781cf0c",
   "metadata": {},
   "source": [
    "## Model Evaluation"
   ]
  },
  {
   "cell_type": "code",
   "execution_count": 24,
   "id": "983b0917-27a1-42f5-91cd-2e410c80c6b0",
   "metadata": {},
   "outputs": [
    {
     "name": "stdout",
     "output_type": "stream",
     "text": [
      "0.7573441745476315\n"
     ]
    }
   ],
   "source": [
    "evaluation = BinaryClassificationEvaluator(\n",
    "    rawPredictionCol=\"rawPrediction\",\n",
    "    labelCol=\"target\",\n",
    "    metricName=\"areaUnderROC\"\n",
    ")\n",
    "\n",
    "auroc = evaluation.evaluate(predictions)\n",
    "\n",
    "print(auroc)"
   ]
  },
  {
   "cell_type": "code",
   "execution_count": null,
   "id": "79d8a684-4979-4e1c-8eb6-fc136aa7977c",
   "metadata": {},
   "outputs": [],
   "source": []
  }
 ],
 "metadata": {
  "kernelspec": {
   "display_name": "Python 3 (ipykernel)",
   "language": "python",
   "name": "python3"
  },
  "language_info": {
   "codemirror_mode": {
    "name": "ipython",
    "version": 3
   },
   "file_extension": ".py",
   "mimetype": "text/x-python",
   "name": "python",
   "nbconvert_exporter": "python",
   "pygments_lexer": "ipython3",
   "version": "3.10.6"
  }
 },
 "nbformat": 4,
 "nbformat_minor": 5
}
